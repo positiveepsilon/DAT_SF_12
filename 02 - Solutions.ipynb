{
 "cells": [
  {
   "cell_type": "markdown",
   "metadata": {},
   "source": [
    "# Lab"
   ]
  },
  {
   "cell_type": "markdown",
   "metadata": {},
   "source": [
    "http://tinyurl.com/enron-db"
   ]
  },
  {
   "cell_type": "code",
   "execution_count": 10,
   "metadata": {
    "collapsed": false
   },
   "outputs": [],
   "source": [
    "%reload_ext sql"
   ]
  },
  {
   "cell_type": "code",
   "execution_count": 11,
   "metadata": {
    "collapsed": false
   },
   "outputs": [
    {
     "name": "stdout",
     "output_type": "stream",
     "text": [
      "Employee          EmployeeWithVars  MessageBase       RecipientBase   \n",
      "EmployeeBase      Message           Recipient       \n"
     ]
    }
   ],
   "source": [
    "%%bash\n",
    "sqlite3 enron.db .tables"
   ]
  },
  {
   "cell_type": "markdown",
   "metadata": {},
   "source": [
    "We only care about the `*Base` tables:\n",
    "\n",
    "- EmployeeBase\n",
    "- MessageBase\n",
    "- RecipientBase\n",
    "\n",
    "(The other tables are derived from those. We don't need them for this exercise.)"
   ]
  },
  {
   "cell_type": "code",
   "execution_count": 12,
   "metadata": {
    "collapsed": false
   },
   "outputs": [
    {
     "name": "stdout",
     "output_type": "stream",
     "text": [
      "Done.\n"
     ]
    },
    {
     "data": {
      "text/html": [
       "<table>\n",
       "    <tr>\n",
       "        <th>mid</th>\n",
       "        <th>filename</th>\n",
       "        <th>unix_time</th>\n",
       "        <th>subject</th>\n",
       "        <th>from_eid</th>\n",
       "    </tr>\n",
       "    <tr>\n",
       "        <td>1</td>\n",
       "        <td>taylor-m/sent/11</td>\n",
       "        <td>910930020</td>\n",
       "        <td>Cd$ CME letter</td>\n",
       "        <td>138</td>\n",
       "    </tr>\n",
       "    <tr>\n",
       "        <td>2</td>\n",
       "        <td>taylor-m/sent/17</td>\n",
       "        <td>911459940</td>\n",
       "        <td>Indemnification</td>\n",
       "        <td>138</td>\n",
       "    </tr>\n",
       "    <tr>\n",
       "        <td>3</td>\n",
       "        <td>taylor-m/sent/18</td>\n",
       "        <td>911463840</td>\n",
       "        <td>Re: Indemnification</td>\n",
       "        <td>138</td>\n",
       "    </tr>\n",
       "    <tr>\n",
       "        <td>4</td>\n",
       "        <td>taylor-m/sent/23</td>\n",
       "        <td>911874180</td>\n",
       "        <td>Re: Coral Energy, L.P.</td>\n",
       "        <td>138</td>\n",
       "    </tr>\n",
       "    <tr>\n",
       "        <td>5</td>\n",
       "        <td>taylor-m/sent/27</td>\n",
       "        <td>912396120</td>\n",
       "        <td>Bankruptcy Code revisions</td>\n",
       "        <td>138</td>\n",
       "    </tr>\n",
       "</table>"
      ],
      "text/plain": [
       "[(1, u'taylor-m/sent/11', 910930020, u'Cd$ CME letter', 138),\n",
       " (2, u'taylor-m/sent/17', 911459940, u'Indemnification', 138),\n",
       " (3, u'taylor-m/sent/18', 911463840, u'Re: Indemnification', 138),\n",
       " (4, u'taylor-m/sent/23', 911874180, u'Re: Coral Energy, L.P.', 138),\n",
       " (5, u'taylor-m/sent/27', 912396120, u'Bankruptcy Code revisions', 138)]"
      ]
     },
     "execution_count": 12,
     "metadata": {},
     "output_type": "execute_result"
    }
   ],
   "source": [
    "%%sql sqlite:///enron.db\n",
    "SELECT * FROM MessageBase LIMIT 5"
   ]
  },
  {
   "cell_type": "code",
   "execution_count": 13,
   "metadata": {
    "collapsed": false
   },
   "outputs": [
    {
     "name": "stdout",
     "output_type": "stream",
     "text": [
      "Done.\n"
     ]
    },
    {
     "data": {
      "text/html": [
       "<table>\n",
       "    <tr>\n",
       "        <th>eid</th>\n",
       "        <th>name</th>\n",
       "        <th>department</th>\n",
       "        <th>longdepartment</th>\n",
       "        <th>title</th>\n",
       "        <th>gender</th>\n",
       "        <th>seniority</th>\n",
       "    </tr>\n",
       "    <tr>\n",
       "        <td>1</td>\n",
       "        <td>John Arnold</td>\n",
       "        <td>Trading</td>\n",
       "        <td>ENA Gas Financial</td>\n",
       "        <td>VP Trading</td>\n",
       "        <td>Male</td>\n",
       "        <td>Senior</td>\n",
       "    </tr>\n",
       "    <tr>\n",
       "        <td>2</td>\n",
       "        <td>Harry Arora</td>\n",
       "        <td>Trading</td>\n",
       "        <td>ENA East Power</td>\n",
       "        <td>VP Trading</td>\n",
       "        <td>Male</td>\n",
       "        <td>Senior</td>\n",
       "    </tr>\n",
       "    <tr>\n",
       "        <td>3</td>\n",
       "        <td>Robert Badeer</td>\n",
       "        <td>Trading</td>\n",
       "        <td>ENA West Power</td>\n",
       "        <td>Mgr Trading</td>\n",
       "        <td>Male</td>\n",
       "        <td>Junior</td>\n",
       "    </tr>\n",
       "    <tr>\n",
       "        <td>4</td>\n",
       "        <td>Susan Bailey</td>\n",
       "        <td>Legal</td>\n",
       "        <td>ENA Legal</td>\n",
       "        <td>Specialist Legal</td>\n",
       "        <td>Female</td>\n",
       "        <td>Junior</td>\n",
       "    </tr>\n",
       "    <tr>\n",
       "        <td>5</td>\n",
       "        <td>Eric Bass</td>\n",
       "        <td>Trading</td>\n",
       "        <td>ENA Gas Texas</td>\n",
       "        <td>Trader</td>\n",
       "        <td>Male</td>\n",
       "        <td>Junior</td>\n",
       "    </tr>\n",
       "</table>"
      ],
      "text/plain": [
       "[(1, u'John Arnold', u'Trading', u'ENA Gas Financial', u'VP Trading', u'Male', u'Senior'),\n",
       " (2, u'Harry Arora', u'Trading', u'ENA East Power', u'VP Trading', u'Male', u'Senior'),\n",
       " (3, u'Robert Badeer', u'Trading', u'ENA West Power', u'Mgr Trading', u'Male', u'Junior'),\n",
       " (4, u'Susan Bailey', u'Legal', u'ENA Legal', u'Specialist Legal', u'Female', u'Junior'),\n",
       " (5, u'Eric Bass', u'Trading', u'ENA Gas Texas', u'Trader', u'Male', u'Junior')]"
      ]
     },
     "execution_count": 13,
     "metadata": {},
     "output_type": "execute_result"
    }
   ],
   "source": [
    "%%sql sqlite:///enron.db\n",
    "SELECT * FROM EmployeeBase LIMIT 5"
   ]
  },
  {
   "cell_type": "code",
   "execution_count": 14,
   "metadata": {
    "collapsed": false
   },
   "outputs": [
    {
     "name": "stdout",
     "output_type": "stream",
     "text": [
      "Done.\n"
     ]
    },
    {
     "data": {
      "text/html": [
       "<table>\n",
       "    <tr>\n",
       "        <th>mid</th>\n",
       "        <th>rno</th>\n",
       "        <th>to_eid</th>\n",
       "    </tr>\n",
       "    <tr>\n",
       "        <td>1</td>\n",
       "        <td>1</td>\n",
       "        <td>59</td>\n",
       "    </tr>\n",
       "    <tr>\n",
       "        <td>2</td>\n",
       "        <td>1</td>\n",
       "        <td>15</td>\n",
       "    </tr>\n",
       "    <tr>\n",
       "        <td>3</td>\n",
       "        <td>1</td>\n",
       "        <td>15</td>\n",
       "    </tr>\n",
       "    <tr>\n",
       "        <td>4</td>\n",
       "        <td>1</td>\n",
       "        <td>109</td>\n",
       "    </tr>\n",
       "    <tr>\n",
       "        <td>4</td>\n",
       "        <td>2</td>\n",
       "        <td>49</td>\n",
       "    </tr>\n",
       "</table>"
      ],
      "text/plain": [
       "[(1, 1, 59), (2, 1, 15), (3, 1, 15), (4, 1, 109), (4, 2, 49)]"
      ]
     },
     "execution_count": 14,
     "metadata": {},
     "output_type": "execute_result"
    }
   ],
   "source": [
    "%%sql sqlite:///enron.db\n",
    "SELECT * FROM RecipientBase LIMIT 5"
   ]
  },
  {
   "cell_type": "markdown",
   "metadata": {},
   "source": [
    "`from_eid` looks like a foreign key"
   ]
  },
  {
   "cell_type": "code",
   "execution_count": 15,
   "metadata": {
    "collapsed": false
   },
   "outputs": [
    {
     "name": "stdout",
     "output_type": "stream",
     "text": [
      "Done.\n"
     ]
    },
    {
     "data": {
      "text/html": [
       "<table>\n",
       "    <tr>\n",
       "        <th>unix_time</th>\n",
       "        <th>name</th>\n",
       "        <th>department</th>\n",
       "        <th>title</th>\n",
       "        <th>gender</th>\n",
       "        <th>seniority</th>\n",
       "        <th>subject</th>\n",
       "        <th>filename</th>\n",
       "    </tr>\n",
       "    <tr>\n",
       "        <td>910930020</td>\n",
       "        <td>Mark E. Taylor</td>\n",
       "        <td>Legal</td>\n",
       "        <td>VP &amp; Gen Cnsl</td>\n",
       "        <td>Male</td>\n",
       "        <td>Senior</td>\n",
       "        <td>Cd$ CME letter</td>\n",
       "        <td>taylor-m/sent/11</td>\n",
       "    </tr>\n",
       "    <tr>\n",
       "        <td>911459940</td>\n",
       "        <td>Mark E. Taylor</td>\n",
       "        <td>Legal</td>\n",
       "        <td>VP &amp; Gen Cnsl</td>\n",
       "        <td>Male</td>\n",
       "        <td>Senior</td>\n",
       "        <td>Indemnification</td>\n",
       "        <td>taylor-m/sent/17</td>\n",
       "    </tr>\n",
       "    <tr>\n",
       "        <td>911463840</td>\n",
       "        <td>Mark E. Taylor</td>\n",
       "        <td>Legal</td>\n",
       "        <td>VP &amp; Gen Cnsl</td>\n",
       "        <td>Male</td>\n",
       "        <td>Senior</td>\n",
       "        <td>Re: Indemnification</td>\n",
       "        <td>taylor-m/sent/18</td>\n",
       "    </tr>\n",
       "    <tr>\n",
       "        <td>911874180</td>\n",
       "        <td>Mark E. Taylor</td>\n",
       "        <td>Legal</td>\n",
       "        <td>VP &amp; Gen Cnsl</td>\n",
       "        <td>Male</td>\n",
       "        <td>Senior</td>\n",
       "        <td>Re: Coral Energy, L.P.</td>\n",
       "        <td>taylor-m/sent/23</td>\n",
       "    </tr>\n",
       "    <tr>\n",
       "        <td>912396120</td>\n",
       "        <td>Mark E. Taylor</td>\n",
       "        <td>Legal</td>\n",
       "        <td>VP &amp; Gen Cnsl</td>\n",
       "        <td>Male</td>\n",
       "        <td>Senior</td>\n",
       "        <td>Bankruptcy Code revisions</td>\n",
       "        <td>taylor-m/sent/27</td>\n",
       "    </tr>\n",
       "</table>"
      ],
      "text/plain": [
       "[(910930020, u'Mark E. Taylor', u'Legal', u'VP & Gen Cnsl', u'Male', u'Senior', u'Cd$ CME letter', u'taylor-m/sent/11'),\n",
       " (911459940, u'Mark E. Taylor', u'Legal', u'VP & Gen Cnsl', u'Male', u'Senior', u'Indemnification', u'taylor-m/sent/17'),\n",
       " (911463840, u'Mark E. Taylor', u'Legal', u'VP & Gen Cnsl', u'Male', u'Senior', u'Re: Indemnification', u'taylor-m/sent/18'),\n",
       " (911874180, u'Mark E. Taylor', u'Legal', u'VP & Gen Cnsl', u'Male', u'Senior', u'Re: Coral Energy, L.P.', u'taylor-m/sent/23'),\n",
       " (912396120, u'Mark E. Taylor', u'Legal', u'VP & Gen Cnsl', u'Male', u'Senior', u'Bankruptcy Code revisions', u'taylor-m/sent/27')]"
      ]
     },
     "execution_count": 15,
     "metadata": {},
     "output_type": "execute_result"
    }
   ],
   "source": [
    "%%sql sqlite:///enron.db\n",
    "SELECT unix_time, name, department, title, gender, seniority, subject, filename \n",
    "FROM EmployeeBase JOIN MessageBase ON eid = from_eid LIMIT 5"
   ]
  },
  {
   "cell_type": "markdown",
   "metadata": {},
   "source": [
    "Finally, `RecipientBase`:"
   ]
  },
  {
   "cell_type": "code",
   "execution_count": 16,
   "metadata": {
    "collapsed": false
   },
   "outputs": [
    {
     "name": "stdout",
     "output_type": "stream",
     "text": [
      "Done.\n"
     ]
    },
    {
     "data": {
      "text/html": [
       "<table>\n",
       "    <tr>\n",
       "        <th>mid</th>\n",
       "        <th>rno</th>\n",
       "        <th>to_eid</th>\n",
       "    </tr>\n",
       "    <tr>\n",
       "        <td>1</td>\n",
       "        <td>1</td>\n",
       "        <td>59</td>\n",
       "    </tr>\n",
       "    <tr>\n",
       "        <td>2</td>\n",
       "        <td>1</td>\n",
       "        <td>15</td>\n",
       "    </tr>\n",
       "    <tr>\n",
       "        <td>3</td>\n",
       "        <td>1</td>\n",
       "        <td>15</td>\n",
       "    </tr>\n",
       "    <tr>\n",
       "        <td>4</td>\n",
       "        <td>1</td>\n",
       "        <td>109</td>\n",
       "    </tr>\n",
       "    <tr>\n",
       "        <td>4</td>\n",
       "        <td>2</td>\n",
       "        <td>49</td>\n",
       "    </tr>\n",
       "    <tr>\n",
       "        <td>4</td>\n",
       "        <td>3</td>\n",
       "        <td>120</td>\n",
       "    </tr>\n",
       "    <tr>\n",
       "        <td>4</td>\n",
       "        <td>4</td>\n",
       "        <td>59</td>\n",
       "    </tr>\n",
       "    <tr>\n",
       "        <td>5</td>\n",
       "        <td>1</td>\n",
       "        <td>45</td>\n",
       "    </tr>\n",
       "    <tr>\n",
       "        <td>5</td>\n",
       "        <td>2</td>\n",
       "        <td>53</td>\n",
       "    </tr>\n",
       "</table>"
      ],
      "text/plain": [
       "[(1, 1, 59),\n",
       " (2, 1, 15),\n",
       " (3, 1, 15),\n",
       " (4, 1, 109),\n",
       " (4, 2, 49),\n",
       " (4, 3, 120),\n",
       " (4, 4, 59),\n",
       " (5, 1, 45),\n",
       " (5, 2, 53)]"
      ]
     },
     "execution_count": 16,
     "metadata": {},
     "output_type": "execute_result"
    }
   ],
   "source": [
    "%%sql sqlite:///enron.db\n",
    "SELECT * FROM RecipientBase LIMIT 9"
   ]
  },
  {
   "cell_type": "markdown",
   "metadata": {},
   "source": [
    "It looks like we can use this to determine how many recipients each message received  \n",
    "i.e. `MAX(rno)`"
   ]
  },
  {
   "cell_type": "code",
   "execution_count": 17,
   "metadata": {
    "collapsed": false
   },
   "outputs": [
    {
     "name": "stdout",
     "output_type": "stream",
     "text": [
      "Done.\n"
     ]
    },
    {
     "data": {
      "text/html": [
       "<table>\n",
       "    <tr>\n",
       "        <th>mid</th>\n",
       "        <th>rno</th>\n",
       "        <th>to_eid</th>\n",
       "    </tr>\n",
       "    <tr>\n",
       "        <td>12116</td>\n",
       "        <td>57</td>\n",
       "        <td>51</td>\n",
       "    </tr>\n",
       "    <tr>\n",
       "        <td>12151</td>\n",
       "        <td>57</td>\n",
       "        <td>51</td>\n",
       "    </tr>\n",
       "</table>"
      ],
      "text/plain": [
       "[(12116, 57, 51), (12151, 57, 51)]"
      ]
     },
     "execution_count": 17,
     "metadata": {},
     "output_type": "execute_result"
    }
   ],
   "source": [
    "%%sql sqlite:///enron.db\n",
    "SELECT * FROM RecipientBase WHERE rno = 57"
   ]
  },
  {
   "cell_type": "code",
   "execution_count": 18,
   "metadata": {
    "collapsed": false
   },
   "outputs": [
    {
     "name": "stdout",
     "output_type": "stream",
     "text": [
      "Done.\n"
     ]
    },
    {
     "data": {
      "text/html": [
       "<table>\n",
       "    <tr>\n",
       "        <th>mid</th>\n",
       "        <th>filename</th>\n",
       "        <th>unix_time</th>\n",
       "        <th>subject</th>\n",
       "        <th>from_eid</th>\n",
       "    </tr>\n",
       "    <tr>\n",
       "        <td>12116</td>\n",
       "        <td>baughman-d/all_documents/398</td>\n",
       "        <td>990510780</td>\n",
       "        <td></td>\n",
       "        <td>67</td>\n",
       "    </tr>\n",
       "    <tr>\n",
       "        <td>12151</td>\n",
       "        <td>baughman-d/ect_admin/22</td>\n",
       "        <td>990546780</td>\n",
       "        <td></td>\n",
       "        <td>67</td>\n",
       "    </tr>\n",
       "</table>"
      ],
      "text/plain": [
       "[(12116, u'baughman-d/all_documents/398', 990510780, u'', 67),\n",
       " (12151, u'baughman-d/ect_admin/22', 990546780, u'', 67)]"
      ]
     },
     "execution_count": 18,
     "metadata": {},
     "output_type": "execute_result"
    }
   ],
   "source": [
    "%%sql sqlite:///enron.db\n",
    "SELECT * FROM MessageBase WHERE mid IN (12116, 12151)"
   ]
  },
  {
   "cell_type": "code",
   "execution_count": 19,
   "metadata": {
    "collapsed": false
   },
   "outputs": [
    {
     "name": "stdout",
     "output_type": "stream",
     "text": [
      "Done.\n"
     ]
    },
    {
     "data": {
      "text/html": [
       "<table>\n",
       "    <tr>\n",
       "        <th>eid</th>\n",
       "        <th>name</th>\n",
       "        <th>department</th>\n",
       "        <th>longdepartment</th>\n",
       "        <th>title</th>\n",
       "        <th>gender</th>\n",
       "        <th>seniority</th>\n",
       "    </tr>\n",
       "    <tr>\n",
       "        <td>67</td>\n",
       "        <td>John J. Lavorato</td>\n",
       "        <td>Other</td>\n",
       "        <td>EWS</td>\n",
       "        <td>ENA President &amp; CEO</td>\n",
       "        <td>Male</td>\n",
       "        <td>Senior</td>\n",
       "    </tr>\n",
       "</table>"
      ],
      "text/plain": [
       "[(67, u'John J. Lavorato', u'Other', u'EWS', u'ENA President & CEO', u'Male', u'Senior')]"
      ]
     },
     "execution_count": 19,
     "metadata": {},
     "output_type": "execute_result"
    }
   ],
   "source": [
    "%%sql sqlite:///enron.db\n",
    "SELECT * FROM EmployeeBase WHERE eid=67"
   ]
  },
  {
   "cell_type": "markdown",
   "metadata": {},
   "source": [
    "Who sent the email to the most recipients?"
   ]
  },
  {
   "cell_type": "code",
   "execution_count": 20,
   "metadata": {
    "collapsed": false
   },
   "outputs": [
    {
     "name": "stdout",
     "output_type": "stream",
     "text": [
      "Done.\n"
     ]
    },
    {
     "data": {
      "text/html": [
       "<table>\n",
       "    <tr>\n",
       "        <th>name</th>\n",
       "        <th>title</th>\n",
       "        <th>MAX(rno)</th>\n",
       "    </tr>\n",
       "    <tr>\n",
       "        <td>John J. Lavorato</td>\n",
       "        <td>ENA President &amp; CEO</td>\n",
       "        <td>57</td>\n",
       "    </tr>\n",
       "</table>"
      ],
      "text/plain": [
       "[(u'John J. Lavorato', u'ENA President & CEO', 57)]"
      ]
     },
     "execution_count": 20,
     "metadata": {},
     "output_type": "execute_result"
    }
   ],
   "source": [
    "%%sql sqlite:///enron.db\n",
    "SELECT name, title, MAX(rno)\n",
    "FROM EmployeeBase \n",
    "JOIN MessageBase ON eid = from_eid \n",
    "JOIN RecipientBase USING(mid)"
   ]
  },
  {
   "cell_type": "markdown",
   "metadata": {},
   "source": [
    "Who are the top five senders of mass emails?"
   ]
  },
  {
   "cell_type": "code",
   "execution_count": 21,
   "metadata": {
    "collapsed": false
   },
   "outputs": [
    {
     "name": "stdout",
     "output_type": "stream",
     "text": [
      "Done.\n"
     ]
    },
    {
     "data": {
      "text/html": [
       "<table>\n",
       "    <tr>\n",
       "        <th>name</th>\n",
       "        <th>title</th>\n",
       "        <th>recipient_count</th>\n",
       "    </tr>\n",
       "    <tr>\n",
       "        <td>John J. Lavorato</td>\n",
       "        <td>ENA President &amp; CEO</td>\n",
       "        <td>57</td>\n",
       "    </tr>\n",
       "    <tr>\n",
       "        <td>Kenneth Lay</td>\n",
       "        <td>President &amp; CEO</td>\n",
       "        <td>52</td>\n",
       "    </tr>\n",
       "    <tr>\n",
       "        <td>Sally Beck</td>\n",
       "        <td>VP</td>\n",
       "        <td>49</td>\n",
       "    </tr>\n",
       "    <tr>\n",
       "        <td>Monique Sanchez </td>\n",
       "        <td>Associate</td>\n",
       "        <td>24</td>\n",
       "    </tr>\n",
       "    <tr>\n",
       "        <td>Louise Kitchen</td>\n",
       "        <td>COO</td>\n",
       "        <td>21</td>\n",
       "    </tr>\n",
       "</table>"
      ],
      "text/plain": [
       "[(u'John J. Lavorato', u'ENA President & CEO', 57),\n",
       " (u'Kenneth Lay', u'President & CEO', 52),\n",
       " (u'Sally Beck', u'VP', 49),\n",
       " (u'Monique Sanchez ', u'Associate', 24),\n",
       " (u'Louise Kitchen', u'COO', 21)]"
      ]
     },
     "execution_count": 21,
     "metadata": {},
     "output_type": "execute_result"
    }
   ],
   "source": [
    "%%sql sqlite:///enron.db\n",
    "SELECT name, title, MAX(rno) AS recipient_count\n",
    "FROM EmployeeBase \n",
    "JOIN MessageBase ON eid = from_eid \n",
    "JOIN RecipientBase USING(mid) \n",
    "GROUP BY name, title ORDER BY recipient_count DESC LIMIT 5"
   ]
  },
  {
   "cell_type": "code",
   "execution_count": 22,
   "metadata": {
    "collapsed": false
   },
   "outputs": [
    {
     "name": "stdout",
     "output_type": "stream",
     "text": [
      "Done.\n"
     ]
    },
    {
     "data": {
      "text/html": [
       "<table>\n",
       "    <tr>\n",
       "        <th>name</th>\n",
       "        <th>department</th>\n",
       "        <th>title</th>\n",
       "        <th>gender</th>\n",
       "        <th>seniority</th>\n",
       "        <th>subject</th>\n",
       "        <th>filename</th>\n",
       "        <th>unix_time</th>\n",
       "    </tr>\n",
       "    <tr>\n",
       "        <td>Stephanie Panus</td>\n",
       "        <td>Legal</td>\n",
       "        <td>Specialist Legal</td>\n",
       "        <td>Female</td>\n",
       "        <td>Junior</td>\n",
       "        <td>Master Termination Log</td>\n",
       "        <td>germany-c/inbox/23</td>\n",
       "        <td>1024666654</td>\n",
       "    </tr>\n",
       "</table>"
      ],
      "text/plain": [
       "[(u'Stephanie Panus', u'Legal', u'Specialist Legal', u'Female', u'Junior', u'Master Termination Log', u'germany-c/inbox/23', 1024666654)]"
      ]
     },
     "execution_count": 22,
     "metadata": {},
     "output_type": "execute_result"
    }
   ],
   "source": [
    "%%sql sqlite:///enron.db\n",
    "SELECT name, department, title, gender, seniority, subject, filename, unix_time\n",
    "FROM EmployeeBase JOIN MessageBase ON eid = from_eid \n",
    "ORDER BY unix_time DESC LIMIT 1"
   ]
  },
  {
   "cell_type": "code",
   "execution_count": 24,
   "metadata": {
    "collapsed": false
   },
   "outputs": [
    {
     "name": "stdout",
     "output_type": "stream",
     "text": [
      "Done.\n"
     ]
    },
    {
     "data": {
      "text/html": [
       "<table>\n",
       "    <tr>\n",
       "        <th>name</th>\n",
       "        <th>department</th>\n",
       "        <th>title</th>\n",
       "        <th>gender</th>\n",
       "        <th>seniority</th>\n",
       "        <th>subject</th>\n",
       "        <th>filename</th>\n",
       "        <th>unix_time</th>\n",
       "    </tr>\n",
       "    <tr>\n",
       "        <td>Chris Germany</td>\n",
       "        <td>Trading</td>\n",
       "        <td>Mgr Trading</td>\n",
       "        <td>Male</td>\n",
       "        <td>Junior</td>\n",
       "        <td>Master Termination Log</td>\n",
       "        <td>germany-c/inbox/23</td>\n",
       "        <td>1024666654</td>\n",
       "    </tr>\n",
       "    <tr>\n",
       "        <td>Sara Shackleton</td>\n",
       "        <td>Legal</td>\n",
       "        <td>Gen Cnsl Asst</td>\n",
       "        <td>Female</td>\n",
       "        <td>Junior</td>\n",
       "        <td>Master Termination Log</td>\n",
       "        <td>germany-c/inbox/23</td>\n",
       "        <td>1024666654</td>\n",
       "    </tr>\n",
       "    <tr>\n",
       "        <td>Susan Bailey</td>\n",
       "        <td>Legal</td>\n",
       "        <td>Specialist Legal</td>\n",
       "        <td>Female</td>\n",
       "        <td>Junior</td>\n",
       "        <td>Master Termination Log</td>\n",
       "        <td>germany-c/inbox/23</td>\n",
       "        <td>1024666654</td>\n",
       "    </tr>\n",
       "</table>"
      ],
      "text/plain": [
       "[(u'Chris Germany', u'Trading', u'Mgr Trading', u'Male', u'Junior', u'Master Termination Log', u'germany-c/inbox/23', 1024666654),\n",
       " (u'Sara Shackleton', u'Legal', u'Gen Cnsl Asst', u'Female', u'Junior', u'Master Termination Log', u'germany-c/inbox/23', 1024666654),\n",
       " (u'Susan Bailey', u'Legal', u'Specialist Legal', u'Female', u'Junior', u'Master Termination Log', u'germany-c/inbox/23', 1024666654)]"
      ]
     },
     "execution_count": 24,
     "metadata": {},
     "output_type": "execute_result"
    }
   ],
   "source": [
    "%%sql sqlite:///enron.db\n",
    "SELECT name, department, title, gender, seniority, subject, filename, unix_time\n",
    "FROM (SELECT * FROM MessageBase ORDER BY unix_time DESC LIMIT 1)\n",
    "JOIN RecipientBase USING(mid)\n",
    "JOIN EmployeeBase ON eid = to_eid"
   ]
  },
  {
   "cell_type": "code",
   "execution_count": 25,
   "metadata": {
    "collapsed": false
   },
   "outputs": [
    {
     "name": "stdout",
     "output_type": "stream",
     "text": [
      "Done.\n"
     ]
    },
    {
     "data": {
      "text/html": [
       "<table>\n",
       "    <tr>\n",
       "        <th>name</th>\n",
       "        <th>department</th>\n",
       "        <th>title</th>\n",
       "        <th>gender</th>\n",
       "        <th>seniority</th>\n",
       "    </tr>\n",
       "    <tr>\n",
       "        <td>Mary Fischer</td>\n",
       "        <td>Other</td>\n",
       "        <td>Employee</td>\n",
       "        <td>Female</td>\n",
       "        <td>Junior</td>\n",
       "    </tr>\n",
       "    <tr>\n",
       "        <td>Rob G. Gay</td>\n",
       "        <td>Other</td>\n",
       "        <td>Employee</td>\n",
       "        <td>Male</td>\n",
       "        <td>Junior</td>\n",
       "    </tr>\n",
       "    <tr>\n",
       "        <td>Judy Hernandez</td>\n",
       "        <td>Other</td>\n",
       "        <td>Administrator</td>\n",
       "        <td>Female</td>\n",
       "        <td>Junior</td>\n",
       "    </tr>\n",
       "    <tr>\n",
       "        <td>Michael E. Taylor</td>\n",
       "        <td>Trading</td>\n",
       "        <td>Trader</td>\n",
       "        <td>Male</td>\n",
       "        <td>Junior</td>\n",
       "    </tr>\n",
       "</table>"
      ],
      "text/plain": [
       "[(u'Mary Fischer', u'Other', u'Employee', u'Female', u'Junior'),\n",
       " (u'Rob G. Gay', u'Other', u'Employee', u'Male', u'Junior'),\n",
       " (u'Judy Hernandez', u'Other', u'Administrator', u'Female', u'Junior'),\n",
       " (u'Michael E. Taylor', u'Trading', u'Trader', u'Male', u'Junior')]"
      ]
     },
     "execution_count": 25,
     "metadata": {},
     "output_type": "execute_result"
    }
   ],
   "source": [
    "%%sql sqlite:///enron.db\n",
    "SELECT name, department, title, gender, seniority\n",
    "FROM EmployeeBase LEFT JOIN MessageBase ON eid = from_eid \n",
    "WHERE mid IS NULL"
   ]
  },
  {
   "cell_type": "code",
   "execution_count": null,
   "metadata": {
    "collapsed": false
   },
   "outputs": [],
   "source": [
    "%%sql sqlite:///enron.db\n",
    "SELECT name, department, title, gender, seniority\n",
    "FROM EmployeeBase LEFT JOIN RecipientBase ON eid = to_eid \n",
    "WHERE mid IS NULL"
   ]
  },
  {
   "cell_type": "code",
   "execution_count": 2,
   "metadata": {
    "collapsed": false
   },
   "outputs": [],
   "source": [
    "%matplotlib inline"
   ]
  },
  {
   "cell_type": "code",
   "execution_count": 3,
   "metadata": {
    "collapsed": false
   },
   "outputs": [],
   "source": [
    "import sqlite3\n",
    "import pandas as pd\n",
    "conn = sqlite3.connect('enron.db')"
   ]
  },
  {
   "cell_type": "code",
   "execution_count": 8,
   "metadata": {
    "collapsed": false
   },
   "outputs": [],
   "source": [
    "MessageBase = pd.read_sql(\"\"\"SELECT mid, unix_time, subject, from_eid FROM MessageBase\"\"\", conn, \"mid\")\n",
    "recipient_counts = pd.read_sql(\"\"\"SELECT mid, datetime(unix_time, 'unixepoch') AS time_sent, MAX(rno) AS recipient_count \n",
    "                        FROM MessageBase JOIN RecipientBase USING (mid) GROUP BY mid, time_sent\"\"\", conn, \"mid\")"
   ]
  },
  {
   "cell_type": "code",
   "execution_count": 5,
   "metadata": {
    "collapsed": false
   },
   "outputs": [],
   "source": [
    "w = recipient_counts.time_sent.map(lambda dt: pd.Period(dt, freq='W'))"
   ]
  },
  {
   "cell_type": "code",
   "execution_count": 6,
   "metadata": {
    "collapsed": false
   },
   "outputs": [
    {
     "data": {
      "text/plain": [
       "<matplotlib.axes._subplots.AxesSubplot at 0x107e9c7d0>"
      ]
     },
     "execution_count": 6,
     "metadata": {},
     "output_type": "execute_result"
    },
    {
     "data": {
      "image/png": "[encoded data removed]",
      "text/plain": [
       "<matplotlib.figure.Figure at 0x107e9c210>"
      ]
     },
     "metadata": {},
     "output_type": "display_data"
    }
   ],
   "source": [
    "recipient_counts.groupby(w).recipient_count.max().plot()"
   ]
  },
  {
   "cell_type": "code",
   "execution_count": 9,
   "metadata": {
    "collapsed": false
   },
   "outputs": [
    {
     "data": {
      "text/html": [
       "<div style=\"max-height:1000px;max-width:1500px;overflow:auto;\">\n",
       "<table border=\"1\" class=\"dataframe\">\n",
       "  <thead>\n",
       "    <tr style=\"text-align: right;\">\n",
       "      <th></th>\n",
       "      <th>time_sent</th>\n",
       "      <th>recipient_count</th>\n",
       "      <th>unix_time</th>\n",
       "      <th>subject</th>\n",
       "      <th>from_eid</th>\n",
       "    </tr>\n",
       "    <tr>\n",
       "      <th>mid</th>\n",
       "      <th></th>\n",
       "      <th></th>\n",
       "      <th></th>\n",
       "      <th></th>\n",
       "      <th></th>\n",
       "    </tr>\n",
       "  </thead>\n",
       "  <tbody>\n",
       "    <tr>\n",
       "      <th>12116</th>\n",
       "      <td> 2001-05-22 05:53:00</td>\n",
       "      <td> 57</td>\n",
       "      <td>  990510780</td>\n",
       "      <td>                                           </td>\n",
       "      <td> 67</td>\n",
       "    </tr>\n",
       "    <tr>\n",
       "      <th>12151</th>\n",
       "      <td> 2001-05-22 15:53:00</td>\n",
       "      <td> 57</td>\n",
       "      <td>  990546780</td>\n",
       "      <td>                                           </td>\n",
       "      <td> 67</td>\n",
       "    </tr>\n",
       "    <tr>\n",
       "      <th>12140</th>\n",
       "      <td> 2001-05-22 10:53:56</td>\n",
       "      <td> 55</td>\n",
       "      <td>  990528836</td>\n",
       "      <td>                                           </td>\n",
       "      <td> 67</td>\n",
       "    </tr>\n",
       "    <tr>\n",
       "      <th>14404</th>\n",
       "      <td> 2001-08-23 11:24:25</td>\n",
       "      <td> 52</td>\n",
       "      <td>  998565865</td>\n",
       "      <td>                  Associate/Analyst Program</td>\n",
       "      <td> 68</td>\n",
       "    </tr>\n",
       "    <tr>\n",
       "      <th>16035</th>\n",
       "      <td> 2001-10-05 14:03:57</td>\n",
       "      <td> 49</td>\n",
       "      <td> 1002290637</td>\n",
       "      <td> Enron Center South (ECS) Move Back-up Plan</td>\n",
       "      <td>  7</td>\n",
       "    </tr>\n",
       "  </tbody>\n",
       "</table>\n",
       "</div>"
      ],
      "text/plain": [
       "                 time_sent  recipient_count   unix_time  \\\n",
       "mid                                                       \n",
       "12116  2001-05-22 05:53:00               57   990510780   \n",
       "12151  2001-05-22 15:53:00               57   990546780   \n",
       "12140  2001-05-22 10:53:56               55   990528836   \n",
       "14404  2001-08-23 11:24:25               52   998565865   \n",
       "16035  2001-10-05 14:03:57               49  1002290637   \n",
       "\n",
       "                                          subject  from_eid  \n",
       "mid                                                          \n",
       "12116                                                    67  \n",
       "12151                                                    67  \n",
       "12140                                                    67  \n",
       "14404                   Associate/Analyst Program        68  \n",
       "16035  Enron Center South (ECS) Move Back-up Plan         7  "
      ]
     },
     "execution_count": 9,
     "metadata": {},
     "output_type": "execute_result"
    }
   ],
   "source": [
    "recipient_counts.join(MessageBase).sort(ascending=False, columns=['recipient_count']).head()"
   ]
  },
  {
   "cell_type": "code",
   "execution_count": null,
   "metadata": {
    "collapsed": false
   },
   "outputs": [],
   "source": []
  }
 ],
 "metadata": {
  "kernelspec": {
   "display_name": "Python 2",
   "language": "python",
   "name": "python2"
  },
  "language_info": {
   "codemirror_mode": {
    "name": "ipython",
    "version": 2
   },
   "file_extension": ".py",
   "mimetype": "text/x-python",
   "name": "python",
   "nbconvert_exporter": "python",
   "pygments_lexer": "ipython2",
   "version": "2.7.9"
  }
 },
 "nbformat": 4,
 "nbformat_minor": 0
}
