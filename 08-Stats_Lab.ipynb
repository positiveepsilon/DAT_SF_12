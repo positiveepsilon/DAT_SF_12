{
 "metadata": {
  "name": "",
  "signature": "sha256:ea44b366ac3da46b592950eac76c3c7d6a27fe56e61ca7614aecfd21488c5a25"
 },
 "nbformat": 3,
 "nbformat_minor": 0,
 "worksheets": [
  {
   "cells": [
    {
     "cell_type": "markdown",
     "metadata": {
      "slideshow": {
       "slide_type": "slide"
      }
     },
     "source": [
      "Lab\n",
      "===================\n",
      "Probability and Statistics\n",
      "-------------------\n",
      "Alessandro D. Gagliardi"
     ]
    },
    {
     "cell_type": "markdown",
     "metadata": {
      "slideshow": {
       "slide_type": "slide"
      }
     },
     "source": [
      "On Groundhog Day, February 2, a famous groundhog in Punxsutawney, PA is used to predict whether a winter will be long or not based on whether or not he sees his shadow. [Jonathan Taylor](http://statweb.stanford.edu/~jtaylo/) collected data on whether he saw his shadow or not from [here](http://www.stormfax.com/ghogday.htm). He stored some of this data in this [table](http://stats191.stanford.edu/data/groundhog.table).\n",
      "\n",
      "Although Phil is on the East Coast,\n",
      "Taylor wondered if the information says anything about whether or not we will experience\n",
      "a rainy winter out here in California. For this, he found rainfall data, and saved it in a \n",
      "[table](http://stats191.stanford.edu/data/rainfall.csv). To see how this was extracted\n",
      "see this [notebook](http://nbviewer.ipython.org/url/www.stanford.edu/class/stats191/notebooks/Rainfall%20data.ipynb).\n",
      "\n",
      "1. Make a boxplot of the average rainfall in Northen California comparing the years Phil sees his shadow versus the years he does not.\n",
      "\n",
      "2. Construct a 90% confidence interval for the difference between the mean rainfall in years Phil sees his shadow and years he does not.\n",
      "\n",
      "3. Interpret the interval in part 2.\n",
      "\n",
      "4. At level, $\\alpha = 0.05$ would you reject the null hypothesis that the average rainfall in Northern California during the month of February was the same in years Phil sees his shadow versus years he does not?\n",
      "\n",
      "5. What assumptions are you making in forming your confidence interval and in your hypothesis test?"
     ]
    },
    {
     "cell_type": "code",
     "collapsed": false,
     "input": [
      "%matplotlib inline\n",
      "import os\n",
      "import matplotlib.pyplot as plt\n",
      "import numpy as np\n",
      "import pandas as pd\n",
      "import statsmodels.api as sm\n",
      "import twitter\n",
      "import yaml\n",
      "from pymongo import MongoClient"
     ],
     "language": "python",
     "metadata": {
      "slideshow": {
       "slide_type": "subslide"
      }
     },
     "outputs": [],
     "prompt_number": 1
    },
    {
     "cell_type": "markdown",
     "metadata": {
      "slideshow": {
       "slide_type": "slide"
      }
     },
     "source": [
      "Part 1\n",
      "------"
     ]
    },
    {
     "cell_type": "code",
     "collapsed": false,
     "input": [
      "rainfall = pd.read_csv('http://stats191.stanford.edu/data/rainfall.csv')\n",
      "groundhog = pd.read_csv('http://stats191.stanford.edu/data/groundhog.table')"
     ],
     "language": "python",
     "metadata": {
      "slideshow": {
       "slide_type": "fragment"
      }
     },
     "outputs": [],
     "prompt_number": 2
    },
    {
     "cell_type": "code",
     "collapsed": false,
     "input": [
      "rainfall.head()"
     ],
     "language": "python",
     "metadata": {},
     "outputs": [
      {
       "html": [
        "<div style=\"max-height:1000px;max-width:1500px;overflow:auto;\">\n",
        "<table border=\"1\" class=\"dataframe\">\n",
        "  <thead>\n",
        "    <tr style=\"text-align: right;\">\n",
        "      <th></th>\n",
        "      <th>WY</th>\n",
        "      <th>Oct</th>\n",
        "      <th>Nov</th>\n",
        "      <th>Dec</th>\n",
        "      <th>Jan</th>\n",
        "      <th>Feb</th>\n",
        "      <th>Mar</th>\n",
        "      <th>Apr</th>\n",
        "      <th>May</th>\n",
        "      <th>Jun</th>\n",
        "      <th>Jul</th>\n",
        "      <th>Aug</th>\n",
        "      <th>Sep</th>\n",
        "      <th>Total</th>\n",
        "    </tr>\n",
        "  </thead>\n",
        "  <tbody>\n",
        "    <tr>\n",
        "      <th>0</th>\n",
        "      <td> 1921</td>\n",
        "      <td> 5.25</td>\n",
        "      <td> 12.38</td>\n",
        "      <td> 11.52</td>\n",
        "      <td> 13.12</td>\n",
        "      <td>  3.76</td>\n",
        "      <td> 5.30</td>\n",
        "      <td> 0.94</td>\n",
        "      <td> 3.05</td>\n",
        "      <td> 0.65</td>\n",
        "      <td> 0.00</td>\n",
        "      <td> 0.00</td>\n",
        "      <td> 0.02</td>\n",
        "      <td> 55.99</td>\n",
        "    </tr>\n",
        "    <tr>\n",
        "      <th>1</th>\n",
        "      <td> 1922</td>\n",
        "      <td> 1.39</td>\n",
        "      <td>  3.16</td>\n",
        "      <td> 11.22</td>\n",
        "      <td>  3.21</td>\n",
        "      <td> 14.42</td>\n",
        "      <td> 8.37</td>\n",
        "      <td> 1.58</td>\n",
        "      <td> 2.22</td>\n",
        "      <td> 0.98</td>\n",
        "      <td> 0.14</td>\n",
        "      <td> 0.08</td>\n",
        "      <td> 0.01</td>\n",
        "      <td> 46.78</td>\n",
        "    </tr>\n",
        "    <tr>\n",
        "      <th>2</th>\n",
        "      <td> 1923</td>\n",
        "      <td> 3.59</td>\n",
        "      <td>  6.01</td>\n",
        "      <td> 11.79</td>\n",
        "      <td>  5.95</td>\n",
        "      <td>  1.93</td>\n",
        "      <td> 0.49</td>\n",
        "      <td> 6.86</td>\n",
        "      <td> 0.93</td>\n",
        "      <td> 2.09</td>\n",
        "      <td> 0.20</td>\n",
        "      <td> 0.40</td>\n",
        "      <td> 2.75</td>\n",
        "      <td> 42.99</td>\n",
        "    </tr>\n",
        "    <tr>\n",
        "      <th>3</th>\n",
        "      <td> 1924</td>\n",
        "      <td> 2.15</td>\n",
        "      <td>  0.46</td>\n",
        "      <td>  2.77</td>\n",
        "      <td>  3.55</td>\n",
        "      <td>  3.94</td>\n",
        "      <td> 2.67</td>\n",
        "      <td> 0.89</td>\n",
        "      <td> 0.05</td>\n",
        "      <td> 0.08</td>\n",
        "      <td> 0.00</td>\n",
        "      <td> 0.14</td>\n",
        "      <td> 0.40</td>\n",
        "      <td> 17.10</td>\n",
        "    </tr>\n",
        "    <tr>\n",
        "      <th>4</th>\n",
        "      <td> 1925</td>\n",
        "      <td> 6.63</td>\n",
        "      <td>  4.71</td>\n",
        "      <td>  6.01</td>\n",
        "      <td>  3.47</td>\n",
        "      <td> 15.21</td>\n",
        "      <td> 4.51</td>\n",
        "      <td> 5.46</td>\n",
        "      <td> 2.14</td>\n",
        "      <td> 1.52</td>\n",
        "      <td> 0.11</td>\n",
        "      <td> 0.83</td>\n",
        "      <td> 2.45</td>\n",
        "      <td> 53.05</td>\n",
        "    </tr>\n",
        "  </tbody>\n",
        "</table>\n",
        "</div>"
       ],
       "metadata": {},
       "output_type": "pyout",
       "prompt_number": 14,
       "text": [
        "     WY   Oct    Nov    Dec    Jan    Feb   Mar   Apr   May   Jun   Jul   Aug  \\\n",
        "0  1921  5.25  12.38  11.52  13.12   3.76  5.30  0.94  3.05  0.65  0.00  0.00   \n",
        "1  1922  1.39   3.16  11.22   3.21  14.42  8.37  1.58  2.22  0.98  0.14  0.08   \n",
        "2  1923  3.59   6.01  11.79   5.95   1.93  0.49  6.86  0.93  2.09  0.20  0.40   \n",
        "3  1924  2.15   0.46   2.77   3.55   3.94  2.67  0.89  0.05  0.08  0.00  0.14   \n",
        "4  1925  6.63   4.71   6.01   3.47  15.21  4.51  5.46  2.14  1.52  0.11  0.83   \n",
        "\n",
        "    Sep  Total  \n",
        "0  0.02  55.99  \n",
        "1  0.01  46.78  \n",
        "2  2.75  42.99  \n",
        "3  0.40  17.10  \n",
        "4  2.45  53.05  "
       ]
      }
     ],
     "prompt_number": 14
    },
    {
     "cell_type": "code",
     "collapsed": false,
     "input": [
      "groundhog.head()"
     ],
     "language": "python",
     "metadata": {},
     "outputs": [
      {
       "html": [
        "<div style=\"max-height:1000px;max-width:1500px;overflow:auto;\">\n",
        "<table border=\"1\" class=\"dataframe\">\n",
        "  <thead>\n",
        "    <tr style=\"text-align: right;\">\n",
        "      <th></th>\n",
        "      <th>year</th>\n",
        "      <th>mintemp</th>\n",
        "      <th>shadow</th>\n",
        "    </tr>\n",
        "  </thead>\n",
        "  <tbody>\n",
        "    <tr>\n",
        "      <th>0</th>\n",
        "      <td> 1990</td>\n",
        "      <td> 24</td>\n",
        "      <td> N</td>\n",
        "    </tr>\n",
        "    <tr>\n",
        "      <th>1</th>\n",
        "      <td> 1991</td>\n",
        "      <td> 23</td>\n",
        "      <td> Y</td>\n",
        "    </tr>\n",
        "    <tr>\n",
        "      <th>2</th>\n",
        "      <td> 1992</td>\n",
        "      <td> 22</td>\n",
        "      <td> Y</td>\n",
        "    </tr>\n",
        "    <tr>\n",
        "      <th>3</th>\n",
        "      <td> 1993</td>\n",
        "      <td> 16</td>\n",
        "      <td> Y</td>\n",
        "    </tr>\n",
        "    <tr>\n",
        "      <th>4</th>\n",
        "      <td> 1994</td>\n",
        "      <td> 12</td>\n",
        "      <td> Y</td>\n",
        "    </tr>\n",
        "  </tbody>\n",
        "</table>\n",
        "</div>"
       ],
       "metadata": {},
       "output_type": "pyout",
       "prompt_number": 11,
       "text": [
        "   year  mintemp shadow\n",
        "0  1990       24      N\n",
        "1  1991       23      Y\n",
        "2  1992       22      Y\n",
        "3  1993       16      Y\n",
        "4  1994       12      Y"
       ]
      }
     ],
     "prompt_number": 11
    },
    {
     "cell_type": "code",
     "collapsed": false,
     "input": [
      "rainfall.merge(groundhog, left_on='WY', right_on='year').head()"
     ],
     "language": "python",
     "metadata": {},
     "outputs": [
      {
       "html": [
        "<div style=\"max-height:1000px;max-width:1500px;overflow:auto;\">\n",
        "<table border=\"1\" class=\"dataframe\">\n",
        "  <thead>\n",
        "    <tr style=\"text-align: right;\">\n",
        "      <th></th>\n",
        "      <th>WY</th>\n",
        "      <th>Oct</th>\n",
        "      <th>Nov</th>\n",
        "      <th>Dec</th>\n",
        "      <th>Jan</th>\n",
        "      <th>Feb</th>\n",
        "      <th>Mar</th>\n",
        "      <th>Apr</th>\n",
        "      <th>May</th>\n",
        "      <th>Jun</th>\n",
        "      <th>Jul</th>\n",
        "      <th>Aug</th>\n",
        "      <th>Sep</th>\n",
        "      <th>Total</th>\n",
        "      <th>year</th>\n",
        "      <th>mintemp</th>\n",
        "      <th>shadow</th>\n",
        "    </tr>\n",
        "  </thead>\n",
        "  <tbody>\n",
        "    <tr>\n",
        "      <th>0</th>\n",
        "      <td> 1990</td>\n",
        "      <td> 6.29</td>\n",
        "      <td> 3.08</td>\n",
        "      <td>  0.07</td>\n",
        "      <td>  7.88</td>\n",
        "      <td>  4.60</td>\n",
        "      <td>  3.19</td>\n",
        "      <td> 1.83</td>\n",
        "      <td> 7.55</td>\n",
        "      <td> 0.29</td>\n",
        "      <td> 0.12</td>\n",
        "      <td> 0.54</td>\n",
        "      <td> 0.53</td>\n",
        "      <td> 35.97</td>\n",
        "      <td> 1990</td>\n",
        "      <td> 24</td>\n",
        "      <td> N</td>\n",
        "    </tr>\n",
        "    <tr>\n",
        "      <th>1</th>\n",
        "      <td> 1991</td>\n",
        "      <td> 1.10</td>\n",
        "      <td> 1.56</td>\n",
        "      <td>  1.39</td>\n",
        "      <td>  0.88</td>\n",
        "      <td>  3.11</td>\n",
        "      <td> 17.94</td>\n",
        "      <td> 1.81</td>\n",
        "      <td> 2.51</td>\n",
        "      <td> 1.20</td>\n",
        "      <td> 0.40</td>\n",
        "      <td> 0.22</td>\n",
        "      <td> 0.05</td>\n",
        "      <td> 32.17</td>\n",
        "      <td> 1991</td>\n",
        "      <td> 23</td>\n",
        "      <td> Y</td>\n",
        "    </tr>\n",
        "    <tr>\n",
        "      <th>2</th>\n",
        "      <td> 1992</td>\n",
        "      <td> 3.44</td>\n",
        "      <td> 2.64</td>\n",
        "      <td>  3.97</td>\n",
        "      <td>  2.81</td>\n",
        "      <td> 11.84</td>\n",
        "      <td>  5.35</td>\n",
        "      <td> 2.67</td>\n",
        "      <td> 0.12</td>\n",
        "      <td> 2.73</td>\n",
        "      <td> 0.20</td>\n",
        "      <td> 0.16</td>\n",
        "      <td> 0.08</td>\n",
        "      <td> 36.01</td>\n",
        "      <td> 1992</td>\n",
        "      <td> 22</td>\n",
        "      <td> Y</td>\n",
        "    </tr>\n",
        "    <tr>\n",
        "      <th>3</th>\n",
        "      <td> 1993</td>\n",
        "      <td> 4.77</td>\n",
        "      <td> 1.15</td>\n",
        "      <td> 14.41</td>\n",
        "      <td> 16.53</td>\n",
        "      <td> 10.26</td>\n",
        "      <td>  7.57</td>\n",
        "      <td> 3.66</td>\n",
        "      <td> 4.27</td>\n",
        "      <td> 2.31</td>\n",
        "      <td> 0.00</td>\n",
        "      <td> 0.38</td>\n",
        "      <td> 0.01</td>\n",
        "      <td> 65.32</td>\n",
        "      <td> 1993</td>\n",
        "      <td> 16</td>\n",
        "      <td> Y</td>\n",
        "    </tr>\n",
        "    <tr>\n",
        "      <th>4</th>\n",
        "      <td> 1994</td>\n",
        "      <td> 2.65</td>\n",
        "      <td> 2.81</td>\n",
        "      <td>  7.34</td>\n",
        "      <td>  4.10</td>\n",
        "      <td>  7.62</td>\n",
        "      <td>  1.53</td>\n",
        "      <td> 2.87</td>\n",
        "      <td> 1.96</td>\n",
        "      <td> 0.32</td>\n",
        "      <td> 0.01</td>\n",
        "      <td> 0.00</td>\n",
        "      <td> 0.62</td>\n",
        "      <td> 31.83</td>\n",
        "      <td> 1994</td>\n",
        "      <td> 12</td>\n",
        "      <td> Y</td>\n",
        "    </tr>\n",
        "  </tbody>\n",
        "</table>\n",
        "</div>"
       ],
       "metadata": {},
       "output_type": "pyout",
       "prompt_number": 12,
       "text": [
        "     WY   Oct   Nov    Dec    Jan    Feb    Mar   Apr   May   Jun   Jul   Aug  \\\n",
        "0  1990  6.29  3.08   0.07   7.88   4.60   3.19  1.83  7.55  0.29  0.12  0.54   \n",
        "1  1991  1.10  1.56   1.39   0.88   3.11  17.94  1.81  2.51  1.20  0.40  0.22   \n",
        "2  1992  3.44  2.64   3.97   2.81  11.84   5.35  2.67  0.12  2.73  0.20  0.16   \n",
        "3  1993  4.77  1.15  14.41  16.53  10.26   7.57  3.66  4.27  2.31  0.00  0.38   \n",
        "4  1994  2.65  2.81   7.34   4.10   7.62   1.53  2.87  1.96  0.32  0.01  0.00   \n",
        "\n",
        "    Sep  Total  year  mintemp shadow  \n",
        "0  0.53  35.97  1990       24      N  \n",
        "1  0.05  32.17  1991       23      Y  \n",
        "2  0.08  36.01  1992       22      Y  \n",
        "3  0.01  65.32  1993       16      Y  \n",
        "4  0.62  31.83  1994       12      Y  "
       ]
      }
     ],
     "prompt_number": 12
    },
    {
     "cell_type": "code",
     "collapsed": false,
     "input": [
      "df = rainfall.merge(groundhog, left_on='WY', right_on='year')[['Total', 'shadow']]"
     ],
     "language": "python",
     "metadata": {},
     "outputs": [],
     "prompt_number": 3
    },
    {
     "cell_type": "code",
     "collapsed": false,
     "input": [
      "df.tail()"
     ],
     "language": "python",
     "metadata": {},
     "outputs": [
      {
       "html": [
        "<div style=\"max-height:1000px;max-width:1500px;overflow:auto;\">\n",
        "<table border=\"1\" class=\"dataframe\">\n",
        "  <thead>\n",
        "    <tr style=\"text-align: right;\">\n",
        "      <th></th>\n",
        "      <th>Total</th>\n",
        "      <th>shadow</th>\n",
        "    </tr>\n",
        "  </thead>\n",
        "  <tbody>\n",
        "    <tr>\n",
        "      <th>16</th>\n",
        "      <td> 80.15</td>\n",
        "      <td> Y</td>\n",
        "    </tr>\n",
        "    <tr>\n",
        "      <th>17</th>\n",
        "      <td> 37.21</td>\n",
        "      <td> N</td>\n",
        "    </tr>\n",
        "    <tr>\n",
        "      <th>18</th>\n",
        "      <td> 34.99</td>\n",
        "      <td> Y</td>\n",
        "    </tr>\n",
        "    <tr>\n",
        "      <th>19</th>\n",
        "      <td> 46.85</td>\n",
        "      <td> Y</td>\n",
        "    </tr>\n",
        "    <tr>\n",
        "      <th>20</th>\n",
        "      <td> 53.59</td>\n",
        "      <td> Y</td>\n",
        "    </tr>\n",
        "  </tbody>\n",
        "</table>\n",
        "</div>"
       ],
       "metadata": {},
       "output_type": "pyout",
       "prompt_number": 5,
       "text": [
        "    Total shadow\n",
        "16  80.15      Y\n",
        "17  37.21      N\n",
        "18  34.99      Y\n",
        "19  46.85      Y\n",
        "20  53.59      Y"
       ]
      }
     ],
     "prompt_number": 5
    },
    {
     "cell_type": "code",
     "collapsed": false,
     "input": [
      "df.boxplot(column='Total', by='shadow')"
     ],
     "language": "python",
     "metadata": {},
     "outputs": [
      {
       "metadata": {},
       "output_type": "pyout",
       "prompt_number": 6,
       "text": [
        "<matplotlib.axes._subplots.AxesSubplot at 0x109d9f310>"
       ]
      },
      {
       "metadata": {},
       "output_type": "display_data",
       "png": "[encoded data removed]",
       "text": [
        "<matplotlib.figure.Figure at 0x109d31d90>"
       ]
      }
     ],
     "prompt_number": 6
    },
    {
     "cell_type": "markdown",
     "metadata": {
      "slideshow": {
       "slide_type": "slide"
      }
     },
     "source": [
      "Part 2\n",
      "------"
     ]
    },
    {
     "cell_type": "code",
     "collapsed": false,
     "input": [
      "mod = sm.OLS.from_formula(\"Total ~ shadow == 'Y'\", df)\n",
      "res = mod.fit()\n",
      "print res.summary(alpha = .1)"
     ],
     "language": "python",
     "metadata": {
      "slideshow": {
       "slide_type": "fragment"
      }
     },
     "outputs": [
      {
       "output_type": "stream",
       "stream": "stdout",
       "text": [
        "                            OLS Regression Results                            \n",
        "==============================================================================\n",
        "Dep. Variable:                  Total   R-squared:                       0.016\n",
        "Model:                            OLS   Adj. R-squared:                 -0.036\n",
        "Method:                 Least Squares   F-statistic:                    0.2996\n",
        "Date:                Tue, 10 Feb 2015   Prob (F-statistic):              0.591\n",
        "Time:                        20:14:19   Log-Likelihood:                -88.568\n",
        "No. Observations:                  21   AIC:                             181.1\n",
        "Df Residuals:                      19   BIC:                             183.2\n",
        "Df Model:                           1                                         \n",
        "Covariance Type:            nonrobust                                         \n",
        "=========================================================================================\n",
        "                            coef    std err          t      P>|t|      [90.0% Conf. Int.]\n",
        "-----------------------------------------------------------------------------------------\n",
        "Intercept                56.4160      7.721      7.307      0.000        43.066    69.766\n",
        "shadow == 'Y'[T.True]    -4.8410      8.845     -0.547      0.591       -20.135    10.453\n",
        "==============================================================================\n",
        "Omnibus:                        1.662   Durbin-Watson:                   1.830\n",
        "Prob(Omnibus):                  0.436   Jarque-Bera (JB):                1.276\n",
        "Skew:                           0.403   Prob(JB):                        0.528\n",
        "Kurtosis:                       2.102   Cond. No.                         3.88\n",
        "==============================================================================\n",
        "\n",
        "Warnings:\n",
        "[1] Standard Errors assume that the covariance matrix of the errors is correctly specified.\n"
       ]
      }
     ],
     "prompt_number": 9
    },
    {
     "cell_type": "markdown",
     "metadata": {
      "slideshow": {
       "slide_type": "fragment"
      }
     },
     "source": [
      "I report the confidence interval [-20.135, 10.453] for the difference between the `shadow == 'Y'` and the `shadow == 'N'` means."
     ]
    },
    {
     "cell_type": "markdown",
     "metadata": {
      "slideshow": {
       "slide_type": "slide"
      }
     },
     "source": [
      "Part 3\n",
      "------\n",
      "If I repeated this sample of `shadow` and `rainfall` in Northern California (assuming they are IID each year) and I form this confidence interval as `t.test` does. Then, 90% of the intervals will cover the true underlying difference in the rainfall between years the groundhog sees his shadow or not."
     ]
    },
    {
     "cell_type": "markdown",
     "metadata": {
      "slideshow": {
       "slide_type": "slide"
      }
     },
     "source": [
      "Part 4\n",
      "------\n",
      "As the reported $p$-value is 0.591, I fail to reject the null hypothesis at the 5% level."
     ]
    },
    {
     "cell_type": "markdown",
     "metadata": {
      "slideshow": {
       "slide_type": "slide"
      }
     },
     "source": [
      "Part 5\n",
      "------\n",
      "I am assuming that the `rainfall` measurements are independent $N(\\mu_i,\\sigma^2)$ where $\\mu_i=\\mu_N$ in the `shadow == 'N'` years and $\\mu_i=\\mu_Y$ in the `shadow == 'Y'` years."
     ]
    },
    {
     "cell_type": "markdown",
     "metadata": {},
     "source": [
      "---"
     ]
    },
    {
     "cell_type": "markdown",
     "metadata": {
      "slideshow": {
       "slide_type": "slide"
      }
     },
     "source": [
      "1-2 Pairs\n",
      "========\n",
      "\n",
      "Use `enron.db` from Lab 2. It can be found in the data folder.\n",
      "\n",
      "1. Create a boxplot of the message recipient count (`MAX(rno)`), splitting the data based on the `seniority` of the sender.\n",
      "\n",
      "2. Compute the sample mean and standard deviation in the two groups.\n",
      "\n",
      "3. Create a histogram of the recipient count within each group.\n",
      "\n",
      "4. Compute a 90% confidence interval for the difference in recipient count between the two groups. What is a problem with this? How might you fix it?\n",
      "\n",
      "5. At level $\\alpha=5\\%$, test the null hypothesis that the average recipient count does not differ between the two groups. What assumptions are you making? What can you conclude?"
     ]
    },
    {
     "cell_type": "markdown",
     "metadata": {
      "slideshow": {
       "slide_type": "fragment"
      }
     },
     "source": [
      "On your own\n",
      "=========\n",
      "\n"
     ]
    },
    {
     "cell_type": "markdown",
     "metadata": {},
     "source": [
      "Start with the Twitter data on US and Canada trends from Lab 3.\n",
      "\n",
      "1. Create a histogram of `text_len` within each group. (Use `alpha = 0.5` to overlay them.)\n",
      "\n",
      "2. Compute the sample mean and standard deviation in the two groups.\n",
      "\n",
      "3. Create a `DataFrame` concatenating data from each collection adding a `country` column to distinguish US from Canada.  \n",
      "    i.e. given `ca_text_len` and `us_text_len` as `Series` containing the length of each text in the Canadian and US collections respectively:\n",
      "\n",
      "    ```python\n",
      "    text_len_df = pd.concat([pd.DataFrame({'text_len': ca_text_len, 'country': 'CA'}), \n",
      "                             pd.DataFrame({'text_len': us_text_len, 'country': 'US'})])\n",
      "    ```\n",
      "\n",
      "4. Use this `DataFrame` to create a `boxplot` of the `text_len` by `country`.\n",
      "\n",
      "5. Use `OLS` to compute a 90% confidence interval for the difference in `text_len` between the two groups. Name a problem with describing the confidence interval of tweet length in this way.\n",
      "\n",
      "5. At level $\\alpha=5\\%$, test the null hypothesis that the average text length does not differ between the two groups. What can you conclude?\n",
      "\n",
      "6. Repeat the above steps but pick your own tags and try to find a pair with a more significant difference."
     ]
    },
    {
     "cell_type": "markdown",
     "metadata": {},
     "source": [
      "---"
     ]
    },
    {
     "cell_type": "markdown",
     "metadata": {},
     "source": [
      "### Don't forget to submit exit tickets: [http://tinyurl.com/dat-exit-ticket](http://tinyurl.com/dat-exit-ticket)"
     ]
    },
    {
     "cell_type": "code",
     "collapsed": false,
     "input": [],
     "language": "python",
     "metadata": {},
     "outputs": []
    }
   ],
   "metadata": {}
  }
 ]
}