{
 "metadata": {
<<<<<<< HEAD
<<<<<<< HEAD
  "name": "",
  "signature": "sha256:bed1bb9004153fb62e3532f1131de2253063aa2b2f70bbc840ab0f4b303c84f8"
=======
  "celltoolbar": "Slideshow",
  "name": "",
  "signature": "sha256:266d032b2d42c8a561a69063eb1c75ad6d35ca5d6ba3bf849e1fac99c86a111b"
>>>>>>> 0e83ca8b1ad900ed1951e5b5fcd7fe9d6cdddbf4
=======
  "name": "",
  "signature": "sha256:bed1bb9004153fb62e3532f1131de2253063aa2b2f70bbc840ab0f4b303c84f8"
>>>>>>> 6b44fa29a6c54dae42bfa0e8e0a943d58c6787fe
 },
 "nbformat": 3,
 "nbformat_minor": 0,
 "worksheets": [
  {
   "cells": [
    {
     "cell_type": "markdown",
     "metadata": {
      "slideshow": {
       "slide_type": "slide"
      }
     },
     "source": [
      "Lab\n",
      "===================\n",
      "Twitter & MongoDB\n",
      "-------------------\n",
      "Alessandro D. Gagliardi"
     ]
    },
    {
     "cell_type": "markdown",
     "metadata": {
      "slideshow": {
       "slide_type": "subslide"
      }
     },
     "source": [
      "Importing Libraries\n",
      "-------------------"
     ]
    },
    {
     "cell_type": "code",
     "collapsed": false,
     "input": [
      "# standard library:\n",
      "import os  \n",
      "\n",
      "from pprint import pprint\n",
      "\n",
      "# other modules:\n",
      "import matplotlib.pyplot as plt\n",
      "import pandas as pd\n",
      "import twitter\n",
      "import yaml\n",
      "\n",
      "from pymongo import MongoClient"
     ],
     "language": "python",
     "metadata": {
      "slideshow": {
       "slide_type": "-"
      }
     },
     "outputs": [],
<<<<<<< HEAD
<<<<<<< HEAD
     "prompt_number": 13
=======
     "prompt_number": 1
>>>>>>> 0e83ca8b1ad900ed1951e5b5fcd7fe9d6cdddbf4
=======
     "prompt_number": 13
>>>>>>> 6b44fa29a6c54dae42bfa0e8e0a943d58c6787fe
    },
    {
     "cell_type": "markdown",
     "metadata": {
      "slideshow": {
       "slide_type": "slide"
      }
     },
     "source": [
      "Twitter Trends\n",
      "=============="
     ]
    },
    {
     "cell_type": "heading",
     "level": 3,
     "metadata": {
      "slideshow": {
       "slide_type": "subslide"
      }
     },
     "source": [
      "Connect to Twitter:"
     ]
    },
    {
<<<<<<< HEAD
<<<<<<< HEAD
=======
>>>>>>> 6b44fa29a6c54dae42bfa0e8e0a943d58c6787fe
     "cell_type": "markdown",
     "metadata": {},
     "source": [
      "Create a credentials file in your home directory called `api_cred.yml` (based on `DAT_SF_12/dummy_api_cred.yml`) that looks like:\n",
      "```yaml\n",
      "API_KEY: your_twitter_key\n",
      "API_SECRET: your_twitter_secret\n",
      "ACCESS_TOKEN: your_twitter_access_token\n",
      "ACCESS_TOKEN_SECRET: your_twitter_access_token_secret\n",
      "```"
     ]
    },
    {
<<<<<<< HEAD
=======
>>>>>>> 0e83ca8b1ad900ed1951e5b5fcd7fe9d6cdddbf4
=======
>>>>>>> 6b44fa29a6c54dae42bfa0e8e0a943d58c6787fe
     "cell_type": "code",
     "collapsed": false,
     "input": [
      "credentials = yaml.load(open(os.path.expanduser('~/api_cred.yml')))\n",
      "\n",
      "auth = twitter.oauth.OAuth(credentials['ACCESS_TOKEN'], \n",
      "                           credentials['ACCESS_TOKEN_SECRET'],\n",
      "                           credentials['API_KEY'],\n",
      "                           credentials['API_SECRET'])\n",
      "\n",
      "twitter_api = twitter.Twitter(auth=auth)"
     ],
     "language": "python",
     "metadata": {
      "slideshow": {
       "slide_type": "-"
      }
     },
     "outputs": [],
     "prompt_number": 2
    },
    {
     "cell_type": "code",
     "collapsed": false,
     "input": [
      "# The Yahoo! Where On Earth ID for the entire world is 1.\n",
      "# See https://dev.twitter.com/docs/api/1.1/get/trends/place and\n",
      "# http://developer.yahoo.com/geo/geoplanet/\n",
      "\n",
      "WORLD_WOE_ID = 1\n",
      "US_WOE_ID = 23424977\n",
      "\n",
      "# Prefix ID with the underscore for query string parameterization.\n",
      "# Without the underscore, the twitter package appends the ID value\n",
      "# to the URL itself as a special case keyword argument.\n",
      "\n",
      "world_trends = twitter_api.trends.place(_id=WORLD_WOE_ID)\n",
      "us_trends = twitter_api.trends.place(_id=US_WOE_ID)\n",
      "\n",
      "pprint(world_trends)"
     ],
     "language": "python",
     "metadata": {
      "slideshow": {
       "slide_type": "slide"
      }
     },
     "outputs": [
      {
       "output_type": "stream",
       "stream": "stdout",
       "text": [
        "[{u'as_of': u'2015-01-23T03:30:40Z',\n",
        "  u'created_at': u'2015-01-23T03:26:25Z',\n",
        "  u'locations': [{u'name': u'Worldwide', u'woeid': 1}],\n",
        "  u'trends': [{u'name': u'#500kLubaTV',\n",
        "               u'promoted_content': None,\n",
        "               u'query': u'%23500kLubaTV',\n",
        "               u'url': u'http://twitter.com/search?q=%23500kLubaTV'},\n",
        "              {u'name': u'#WeWantASelfieJustin',\n",
        "               u'promoted_content': None,\n",
        "               u'query': u'%23WeWantASelfieJustin',\n",
        "               u'url': u'http://twitter.com/search?q=%23WeWantASelfieJustin'},\n",
        "              {u'name': u'#MasterChefMaximaPresion',\n",
        "               u'promoted_content': None,\n",
        "               u'query': u'%23MasterChefMaximaPresion',\n",
        "               u'url': u'http://twitter.com/search?q=%23MasterChefMaximaPresion'},\n",
        "              {u'name': u'#KeshaNoMultishow',\n",
        "               u'promoted_content': None,\n",
        "               u'query': u'%23KeshaNoMultishow',\n",
        "               u'url': u'http://twitter.com/search?q=%23KeshaNoMultishow'},\n",
        "              {u'name': u'#\\u0648\\u0641\\u0627\\u0629_\\u062e\\u0627\\u062f\\u0645_\\u0627\\u0644\\u062d\\u0631\\u0645\\u064a\\u0646_\\u0627\\u0644\\u0634\\u0631\\u064a\\u0641\\u064a\\u0646',\n",
        "               u'promoted_content': None,\n",
        "               u'query': u'%23%D9%88%D9%81%D8%A7%D8%A9_%D8%AE%D8%A7%D8%AF%D9%85_%D8%A7%D9%84%D8%AD%D8%B1%D9%85%D9%8A%D9%86_%D8%A7%D9%84%D8%B4%D8%B1%D9%8A%D9%81%D9%8A%D9%86',\n",
        "               u'url': u'http://twitter.com/search?q=%23%D9%88%D9%81%D8%A7%D8%A9_%D8%AE%D8%A7%D8%AF%D9%85_%D8%A7%D9%84%D8%AD%D8%B1%D9%85%D9%8A%D9%86_%D8%A7%D9%84%D8%B4%D8%B1%D9%8A%D9%81%D9%8A%D9%86'},\n",
        "              {u'name': u'\\u0639\\u0628\\u062f\\u0627\\u0644\\u0644\\u0647 \\u0628\\u0646 \\u0639\\u0628\\u062f\\u0627\\u0644\\u0639\\u0632\\u064a\\u0632',\n",
        "               u'promoted_content': None,\n",
        "               u'query': u'%22%D8%B9%D8%A8%D8%AF%D8%A7%D9%84%D9%84%D9%87+%D8%A8%D9%86+%D8%B9%D8%A8%D8%AF%D8%A7%D9%84%D8%B9%D8%B2%D9%8A%D8%B2%22',\n",
        "               u'url': u'http://twitter.com/search?q=%22%D8%B9%D8%A8%D8%AF%D8%A7%D9%84%D9%84%D9%87+%D8%A8%D9%86+%D8%B9%D8%A8%D8%AF%D8%A7%D9%84%D8%B9%D8%B2%D9%8A%D8%B2%22'},\n",
        "              {u'name': u'Unimarc',\n",
        "               u'promoted_content': None,\n",
        "               u'query': u'Unimarc',\n",
        "               u'url': u'http://twitter.com/search?q=Unimarc'},\n",
        "              {u'name': u'VatSapp 0534x455x65x03',\n",
        "               u'promoted_content': None,\n",
        "               u'query': u'%22VatSapp+0534x455x65x03%22',\n",
        "               u'url': u'http://twitter.com/search?q=%22VatSapp+0534x455x65x03%22'},\n",
        "              {u'name': u'\\u0645\\u0642\\u0628\\u0644 \\u062d\\u0632\\u064a\\u0646',\n",
        "               u'promoted_content': None,\n",
        "               u'query': u'%22%D9%85%D9%82%D8%A8%D9%84+%D8%AD%D8%B2%D9%8A%D9%86%22',\n",
        "               u'url': u'http://twitter.com/search?q=%22%D9%85%D9%82%D8%A8%D9%84+%D8%AD%D8%B2%D9%8A%D9%86%22'},\n",
        "              {u'name': u'AhmetG Kim',\n",
        "               u'promoted_content': None,\n",
        "               u'query': u'%22AhmetG+Kim%22',\n",
        "               u'url': u'http://twitter.com/search?q=%22AhmetG+Kim%22'}]}]\n"
       ]
      }
     ],
     "prompt_number": 3
    },
    {
     "cell_type": "code",
     "collapsed": false,
     "input": [
      "pprint(us_trends)"
     ],
     "language": "python",
     "metadata": {
      "slideshow": {
       "slide_type": "subslide"
      }
     },
     "outputs": [
      {
       "output_type": "stream",
       "stream": "stdout",
       "text": [
        "[{u'as_of': u'2015-01-23T03:30:40Z',\n",
        "  u'created_at': u'2015-01-23T03:26:25Z',\n",
        "  u'locations': [{u'name': u'United States', u'woeid': 23424977}],\n",
        "  u'trends': [{u'name': u'#WhyWeLoveCalum',\n",
        "               u'promoted_content': None,\n",
        "               u'query': u'%23WhyWeLoveCalum',\n",
        "               u'url': u'http://twitter.com/search?q=%23WhyWeLoveCalum'},\n",
        "              {u'name': u'#XgamesAspen',\n",
        "               u'promoted_content': None,\n",
        "               u'query': u'%23XgamesAspen',\n",
        "               u'url': u'http://twitter.com/search?q=%23XgamesAspen'},\n",
        "              {u'name': u'#WeWantASelfieJustin',\n",
        "               u'promoted_content': None,\n",
        "               u'query': u'%23WeWantASelfieJustin',\n",
        "               u'url': u'http://twitter.com/search?q=%23WeWantASelfieJustin'},\n",
        "              {u'name': u'#BackstromPremiere',\n",
        "               u'promoted_content': None,\n",
        "               u'query': u'%23BackstromPremiere',\n",
        "               u'url': u'http://twitter.com/search?q=%23BackstromPremiere'},\n",
        "              {u'name': u'#MakeSexAwkwardIn5Words',\n",
        "               u'promoted_content': None,\n",
        "               u'query': u'%23MakeSexAwkwardIn5Words',\n",
        "               u'url': u'http://twitter.com/search?q=%23MakeSexAwkwardIn5Words'},\n",
        "              {u'name': u'U.S. in February',\n",
        "               u'promoted_content': None,\n",
        "               u'query': u'%22U.S.+in+February%22',\n",
        "               u'url': u'http://twitter.com/search?q=%22U.S.+in+February%22'},\n",
        "              {u'name': u'Spurs 81',\n",
        "               u'promoted_content': None,\n",
        "               u'query': u'%22Spurs+81%22',\n",
        "               u'url': u'http://twitter.com/search?q=%22Spurs+81%22'},\n",
        "              {u'name': u'Danny Worsnop',\n",
        "               u'promoted_content': None,\n",
        "               u'query': u'%22Danny+Worsnop%22',\n",
        "               u'url': u'http://twitter.com/search?q=%22Danny+Worsnop%22'},\n",
        "              {u'name': u'Christina Gao',\n",
        "               u'promoted_content': None,\n",
        "               u'query': u'%22Christina+Gao%22',\n",
        "               u'url': u'http://twitter.com/search?q=%22Christina+Gao%22'},\n",
        "              {u'name': u\"Chocolates for Valentine's Day\",\n",
        "               u'promoted_content': None,\n",
        "               u'query': u'%22Chocolates+for+Valentine%27s+Day%22',\n",
        "               u'url': u'http://twitter.com/search?q=%22Chocolates+for+Valentine%27s+Day%22'}]}]\n"
       ]
      }
     ],
     "prompt_number": 4
    },
    {
     "cell_type": "heading",
     "level": 3,
     "metadata": {
      "slideshow": {
       "slide_type": "subslide"
      }
     },
     "source": [
      "Do any of these trends intersect?"
     ]
    },
    {
     "cell_type": "code",
     "collapsed": false,
     "input": [
<<<<<<< HEAD
<<<<<<< HEAD
=======
>>>>>>> 6b44fa29a6c54dae42bfa0e8e0a943d58c6787fe
      "l = [1,2,3,4,5]\n",
      "for x in l:\n",
      "    print x**2"
     ],
     "language": "python",
     "metadata": {},
     "outputs": [
      {
       "output_type": "stream",
       "stream": "stdout",
       "text": [
        "1\n",
        "4\n",
        "9\n",
        "16\n",
        "25\n"
       ]
      }
     ],
     "prompt_number": 20
    },
    {
     "cell_type": "code",
     "collapsed": false,
     "input": [
      "[x**2 for x in l]"
     ],
     "language": "python",
     "metadata": {},
     "outputs": [
      {
       "metadata": {},
       "output_type": "pyout",
       "prompt_number": 21,
       "text": [
        "[1, 4, 9, 16, 25]"
       ]
      }
     ],
     "prompt_number": 21
    },
    {
     "cell_type": "code",
     "collapsed": false,
     "input": [
      "l2 = [[1,2,3],[3,4,5],[3,5,6]]\n",
      "for x in l2:\n",
      "    for y in x:\n",
      "        print y"
     ],
     "language": "python",
     "metadata": {},
     "outputs": [
      {
       "output_type": "stream",
       "stream": "stdout",
       "text": [
        "1\n",
        "2\n",
        "3\n",
        "3\n",
        "4\n",
        "5\n",
        "3\n",
        "5\n",
        "6\n"
       ]
      }
     ],
     "prompt_number": 25
    },
    {
     "cell_type": "code",
     "collapsed": false,
     "input": [
      "[y**2 for x in l2 for y in x]"
     ],
     "language": "python",
     "metadata": {},
     "outputs": [
      {
       "metadata": {},
       "output_type": "pyout",
       "prompt_number": 26,
       "text": [
        "[1, 4, 9, 9, 16, 25, 9, 25, 36]"
       ]
      }
     ],
     "prompt_number": 26
    },
    {
     "cell_type": "code",
     "collapsed": false,
     "input": [
      "set([y**2 for x in l2 for y in x])"
     ],
     "language": "python",
     "metadata": {},
     "outputs": [
      {
       "metadata": {},
       "output_type": "pyout",
       "prompt_number": 27,
       "text": [
        "{1, 4, 9, 16, 25, 36}"
       ]
      }
     ],
     "prompt_number": 27
    },
    {
     "cell_type": "code",
     "collapsed": false,
     "input": [
<<<<<<< HEAD
=======
>>>>>>> 0e83ca8b1ad900ed1951e5b5fcd7fe9d6cdddbf4
=======
>>>>>>> 6b44fa29a6c54dae42bfa0e8e0a943d58c6787fe
      "world_trends_set = set([trend['name'] for trends in world_trends\n",
      "                        for trend in trends['trends']])\n",
      "\n",
      "us_trends_set = set([trend['name'] for trends in us_trends\n",
      "                     for trend in trends['trends']]) \n",
      "\n",
      "world_trends_set.intersection(us_trends_set)"
     ],
     "language": "python",
     "metadata": {
      "slideshow": {
       "slide_type": "fragment"
      }
     },
     "outputs": [
      {
       "metadata": {},
       "output_type": "pyout",
       "prompt_number": 5,
       "text": [
        "{u'#WeWantASelfieJustin'}"
       ]
      }
     ],
     "prompt_number": 5
    },
    {
     "cell_type": "markdown",
     "metadata": {
      "slideshow": {
       "slide_type": "slide"
      }
     },
     "source": [
      "Twitter Statuses\n",
      "================"
     ]
    },
    {
     "cell_type": "code",
     "collapsed": false,
     "input": [
      "q = world_trends[0]['trends'][0]['name']\n",
      "\n",
      "count = 100\n",
      "\n",
      "# See https://dev.twitter.com/docs/api/1.1/get/search/tweets\n",
      "\n",
      "search_results = twitter_api.search.tweets(q=q, count=count)\n",
      "\n",
      "statuses = search_results['statuses']"
     ],
     "language": "python",
     "metadata": {
      "slideshow": {
       "slide_type": "fragment"
      }
     },
<<<<<<< HEAD
<<<<<<< HEAD
=======
>>>>>>> 6b44fa29a6c54dae42bfa0e8e0a943d58c6787fe
     "outputs": [
      {
       "output_type": "stream",
       "stream": "stdout",
       "text": [
        "u'#500kLubaTV'\n"
       ]
      }
     ],
     "prompt_number": 30
<<<<<<< HEAD
=======
     "outputs": [],
     "prompt_number": 6
>>>>>>> 0e83ca8b1ad900ed1951e5b5fcd7fe9d6cdddbf4
=======
>>>>>>> 6b44fa29a6c54dae42bfa0e8e0a943d58c6787fe
    },
    {
     "cell_type": "code",
     "collapsed": false,
     "input": [
      "len(statuses)"
     ],
     "language": "python",
     "metadata": {
      "slideshow": {
       "slide_type": "fragment"
      }
     },
     "outputs": [
      {
       "metadata": {},
       "output_type": "pyout",
<<<<<<< HEAD
<<<<<<< HEAD
       "prompt_number": 35,
=======
       "prompt_number": 7,
>>>>>>> 0e83ca8b1ad900ed1951e5b5fcd7fe9d6cdddbf4
=======
       "prompt_number": 35,
>>>>>>> 6b44fa29a6c54dae42bfa0e8e0a943d58c6787fe
       "text": [
        "100"
       ]
      }
     ],
<<<<<<< HEAD
<<<<<<< HEAD
     "prompt_number": 35
=======
     "prompt_number": 7
>>>>>>> 0e83ca8b1ad900ed1951e5b5fcd7fe9d6cdddbf4
=======
     "prompt_number": 35
>>>>>>> 6b44fa29a6c54dae42bfa0e8e0a943d58c6787fe
    },
    {
     "cell_type": "heading",
     "level": 3,
     "metadata": {
      "slideshow": {
       "slide_type": "subslide"
      }
     },
     "source": [
      "More?"
     ]
    },
    {
     "cell_type": "code",
     "collapsed": false,
     "input": [
      "search_results['search_metadata'].get('next_results')"
     ],
     "language": "python",
     "metadata": {
      "slideshow": {
       "slide_type": "fragment"
      }
     },
     "outputs": [
      {
       "metadata": {},
       "output_type": "pyout",
<<<<<<< HEAD
<<<<<<< HEAD
       "prompt_number": 36,
       "text": [
        "u'?max_id=558478607333748736&q=%23500kLubaTV&count=100&include_entities=1'"
       ]
      }
     ],
     "prompt_number": 36
    },
    {
     "cell_type": "code",
     "collapsed": false,
     "input": [
      "next_results = search_results['search_metadata'].get('next_results')\n",
      "dict([kv.split('=') for kv in next_results[1:].split(\"&\")])\n",
      "    "
     ],
     "language": "python",
     "metadata": {},
     "outputs": [
      {
       "metadata": {},
       "output_type": "pyout",
       "prompt_number": 44,
       "text": [
        "{u'count': u'100',\n",
        " u'include_entities': u'1',\n",
        " u'max_id': u'558478607333748736',\n",
        " u'q': u'%23500kLubaTV'}"
       ]
      }
     ],
     "prompt_number": 44
=======
       "prompt_number": 8,
=======
       "prompt_number": 36,
>>>>>>> 6b44fa29a6c54dae42bfa0e8e0a943d58c6787fe
       "text": [
        "u'?max_id=558478607333748736&q=%23500kLubaTV&count=100&include_entities=1'"
       ]
      }
     ],
<<<<<<< HEAD
     "prompt_number": 8
>>>>>>> 0e83ca8b1ad900ed1951e5b5fcd7fe9d6cdddbf4
=======
     "prompt_number": 36
    },
    {
     "cell_type": "code",
     "collapsed": false,
     "input": [
      "next_results = search_results['search_metadata'].get('next_results')\n",
      "dict([kv.split('=') for kv in next_results[1:].split(\"&\")])\n",
      "    "
     ],
     "language": "python",
     "metadata": {},
     "outputs": [
      {
       "metadata": {},
       "output_type": "pyout",
       "prompt_number": 44,
       "text": [
        "{u'count': u'100',\n",
        " u'include_entities': u'1',\n",
        " u'max_id': u'558478607333748736',\n",
        " u'q': u'%23500kLubaTV'}"
       ]
      }
     ],
     "prompt_number": 44
>>>>>>> 6b44fa29a6c54dae42bfa0e8e0a943d58c6787fe
    },
    {
     "cell_type": "code",
     "collapsed": false,
     "input": [
      "if 'next_results' in search_results['search_metadata']:\n",
      "    next_results = search_results['search_metadata']['next_results']\n",
      "    kwargs = dict([ kv.split('=') for kv in next_results[1:].split(\"&\") ])\n",
      "    search_results = twitter_api.search.tweets(**kwargs)\n",
      "    statuses += search_results['statuses']\n",
      "\n",
      "len(statuses)"
     ],
     "language": "python",
     "metadata": {
      "slideshow": {
       "slide_type": "fragment"
      }
     },
     "outputs": [
      {
       "metadata": {},
       "output_type": "pyout",
<<<<<<< HEAD
<<<<<<< HEAD
       "prompt_number": 37,
=======
       "prompt_number": 9,
>>>>>>> 0e83ca8b1ad900ed1951e5b5fcd7fe9d6cdddbf4
=======
       "prompt_number": 37,
>>>>>>> 6b44fa29a6c54dae42bfa0e8e0a943d58c6787fe
       "text": [
        "200"
       ]
      }
     ],
<<<<<<< HEAD
<<<<<<< HEAD
     "prompt_number": 37
=======
     "prompt_number": 9
>>>>>>> 0e83ca8b1ad900ed1951e5b5fcd7fe9d6cdddbf4
=======
     "prompt_number": 37
>>>>>>> 6b44fa29a6c54dae42bfa0e8e0a943d58c6787fe
    },
    {
     "cell_type": "markdown",
     "metadata": {
      "slideshow": {
       "slide_type": "slide"
      }
     },
     "source": [
      "Mongo\n",
      "====="
     ]
    },
    {
     "cell_type": "markdown",
     "metadata": {
      "slideshow": {
       "slide_type": "subslide"
      }
     },
     "source": [
      "from the command line:\n",
      "```bash\n",
      "$ mkdir -p data/db\n",
      "$ mongod --dbpath data/db\n",
      "```"
     ]
    },
    {
     "cell_type": "heading",
     "level": 3,
     "metadata": {
      "slideshow": {
       "slide_type": "slide"
      }
     },
     "source": [
      "Connect to our Mongo database management server (DBMS):"
     ]
    },
    {
     "cell_type": "code",
     "collapsed": false,
     "input": [
      "c = MongoClient()"
     ],
     "language": "python",
     "metadata": {
      "slideshow": {
       "slide_type": "fragment"
      }
     },
<<<<<<< HEAD
<<<<<<< HEAD
     "outputs": [],
     "prompt_number": 50
=======
     "outputs": [
      {
       "ename": "ConnectionFailure",
       "evalue": "[Errno 61] Connection refused",
       "output_type": "pyerr",
       "traceback": [
        "\u001b[0;31m---------------------------------------------------------------------------\u001b[0m\n\u001b[0;31mConnectionFailure\u001b[0m                         Traceback (most recent call last)",
        "\u001b[0;32m<ipython-input-11-fb14cafad3b8>\u001b[0m in \u001b[0;36m<module>\u001b[0;34m()\u001b[0m\n\u001b[0;32m----> 1\u001b[0;31m \u001b[0mc\u001b[0m \u001b[0;34m=\u001b[0m \u001b[0mMongoClient\u001b[0m\u001b[0;34m(\u001b[0m\u001b[0;34m)\u001b[0m\u001b[0;34m\u001b[0m\u001b[0m\n\u001b[0m",
        "\u001b[0;32m/Users/alessandro.gagliardi/anaconda/lib/python2.7/site-packages/pymongo/mongo_client.pyc\u001b[0m in \u001b[0;36m__init__\u001b[0;34m(self, host, port, max_pool_size, document_class, tz_aware, _connect, **kwargs)\u001b[0m\n\u001b[1;32m    364\u001b[0m             \u001b[0;32mexcept\u001b[0m \u001b[0mAutoReconnect\u001b[0m\u001b[0;34m,\u001b[0m \u001b[0me\u001b[0m\u001b[0;34m:\u001b[0m\u001b[0;34m\u001b[0m\u001b[0m\n\u001b[1;32m    365\u001b[0m                 \u001b[0;31m# ConnectionFailure makes more sense here than AutoReconnect\u001b[0m\u001b[0;34m\u001b[0m\u001b[0;34m\u001b[0m\u001b[0m\n\u001b[0;32m--> 366\u001b[0;31m                 \u001b[0;32mraise\u001b[0m \u001b[0mConnectionFailure\u001b[0m\u001b[0;34m(\u001b[0m\u001b[0mstr\u001b[0m\u001b[0;34m(\u001b[0m\u001b[0me\u001b[0m\u001b[0;34m)\u001b[0m\u001b[0;34m)\u001b[0m\u001b[0;34m\u001b[0m\u001b[0m\n\u001b[0m\u001b[1;32m    367\u001b[0m \u001b[0;34m\u001b[0m\u001b[0m\n\u001b[1;32m    368\u001b[0m         \u001b[0;32mif\u001b[0m \u001b[0musername\u001b[0m\u001b[0;34m:\u001b[0m\u001b[0;34m\u001b[0m\u001b[0m\n",
        "\u001b[0;31mConnectionFailure\u001b[0m: [Errno 61] Connection refused"
       ]
      }
     ],
     "prompt_number": 11
>>>>>>> 0e83ca8b1ad900ed1951e5b5fcd7fe9d6cdddbf4
=======
     "outputs": [],
     "prompt_number": 50
>>>>>>> 6b44fa29a6c54dae42bfa0e8e0a943d58c6787fe
    },
    {
     "cell_type": "heading",
     "level": 4,
     "metadata": {
      "slideshow": {
       "slide_type": "fragment"
      }
     },
     "source": [
      "Create a database called `twitter`:"
     ]
    },
    {
     "cell_type": "code",
     "collapsed": false,
     "input": [
      "db = c.twitter"
     ],
     "language": "python",
     "metadata": {
      "slideshow": {
       "slide_type": "fragment"
      }
     },
     "outputs": [],
<<<<<<< HEAD
<<<<<<< HEAD
     "prompt_number": 51
=======
     "prompt_number": 11
>>>>>>> 0e83ca8b1ad900ed1951e5b5fcd7fe9d6cdddbf4
=======
     "prompt_number": 51
>>>>>>> 6b44fa29a6c54dae42bfa0e8e0a943d58c6787fe
    },
    {
     "cell_type": "markdown",
     "metadata": {
      "slideshow": {
       "slide_type": "notes"
      }
     },
     "source": [
      "##### Yes, it's that easy."
     ]
    },
    {
     "cell_type": "heading",
     "level": 4,
     "metadata": {
      "slideshow": {
       "slide_type": "slide"
      }
     },
     "source": [
      "Insert the results we pulled from Twitter and store them as a document in a collection named `tweets`:"
     ]
    },
    {
     "cell_type": "code",
     "collapsed": false,
     "input": [
      "statuses_ids = db.tweets.insert(statuses)\n",
      "statuses_ids[:5]"
     ],
     "language": "python",
     "metadata": {
      "slideshow": {
       "slide_type": "fragment"
      }
     },
     "outputs": [
      {
       "metadata": {},
       "output_type": "pyout",
<<<<<<< HEAD
<<<<<<< HEAD
       "prompt_number": 52,
       "text": [
        "[ObjectId('54c1d26646d3d338ebd5e9b1'),\n",
        " ObjectId('54c1d26646d3d338ebd5e9b2'),\n",
        " ObjectId('54c1d26646d3d338ebd5e9b3'),\n",
        " ObjectId('54c1d26646d3d338ebd5e9b4'),\n",
        " ObjectId('54c1d26646d3d338ebd5e9b5')]"
       ]
      }
     ],
     "prompt_number": 52
=======
       "prompt_number": 12,
=======
       "prompt_number": 52,
>>>>>>> 6b44fa29a6c54dae42bfa0e8e0a943d58c6787fe
       "text": [
        "[ObjectId('54c1d26646d3d338ebd5e9b1'),\n",
        " ObjectId('54c1d26646d3d338ebd5e9b2'),\n",
        " ObjectId('54c1d26646d3d338ebd5e9b3'),\n",
        " ObjectId('54c1d26646d3d338ebd5e9b4'),\n",
        " ObjectId('54c1d26646d3d338ebd5e9b5')]"
       ]
      }
     ],
<<<<<<< HEAD
     "prompt_number": 12
>>>>>>> 0e83ca8b1ad900ed1951e5b5fcd7fe9d6cdddbf4
=======
     "prompt_number": 52
>>>>>>> 6b44fa29a6c54dae42bfa0e8e0a943d58c6787fe
    },
    {
     "cell_type": "heading",
     "level": 3,
     "metadata": {
      "slideshow": {
       "slide_type": "slide"
      }
     },
     "source": [
      "`ObjectId`s"
     ]
    },
    {
     "cell_type": "markdown",
     "metadata": {
      "slideshow": {
       "slide_type": "fragment"
      }
     },
     "source": [
      "**ObjectId** is a 12-byte **BSON** type, constructed using:\n",
      "\n",
      "-    a 4-byte value representing the seconds since the Unix epoch,\n",
      "-    a 3-byte machine identifier,\n",
      "-    a 2-byte process id, and\n",
      "-    a 3-byte counter, starting with a random value.\n",
      "\n",
      "In MongoDB, documents stored in a collection require a unique `_id` field that acts as a **primary key**. Because ObjectIds are small, most likely unique, and fast to generate, MongoDB uses ObjectIds as the default value for the `_id` field if the `_id` field is not specified. \n",
      "\n",
      "<!--small><i>from http://docs.mongodb.org/manual/reference/object-id/</i></small-->"
     ]
    },
    {
     "cell_type": "markdown",
     "metadata": {
      "slideshow": {
       "slide_type": "notes"
      }
     },
     "source": [
      "Using ObjectIds for the `_id` field provides the following additional benefits:\n",
      "\n",
      "- you can access the insertion time of the ObjectId, using the `.generation_time` property in pymongo. \n",
      "- sorting on an `_id` field that stores ObjectId values is roughly equivalent to sorting by insertion time."
     ]
    },
    {
     "cell_type": "heading",
     "level": 3,
     "metadata": {
      "slideshow": {
       "slide_type": "slide"
      }
     },
     "source": [
      "Test the contents of our database:"
     ]
    },
    {
     "cell_type": "code",
     "collapsed": false,
     "input": [
      "c.database_names()"
     ],
     "language": "python",
     "metadata": {
      "slideshow": {
       "slide_type": "fragment"
      }
     },
     "outputs": [
      {
       "metadata": {},
       "output_type": "pyout",
<<<<<<< HEAD
<<<<<<< HEAD
       "prompt_number": 53,
=======
       "prompt_number": 13,
>>>>>>> 0e83ca8b1ad900ed1951e5b5fcd7fe9d6cdddbf4
=======
       "prompt_number": 53,
>>>>>>> 6b44fa29a6c54dae42bfa0e8e0a943d58c6787fe
       "text": [
        "[u'local', u'twitter']"
       ]
      }
     ],
<<<<<<< HEAD
<<<<<<< HEAD
     "prompt_number": 53
=======
     "prompt_number": 13
>>>>>>> 0e83ca8b1ad900ed1951e5b5fcd7fe9d6cdddbf4
=======
     "prompt_number": 53
>>>>>>> 6b44fa29a6c54dae42bfa0e8e0a943d58c6787fe
    },
    {
     "cell_type": "code",
     "collapsed": false,
     "input": [
      "db = c.twitter\n",
      "db.collection_names()"
     ],
     "language": "python",
     "metadata": {
      "slideshow": {
       "slide_type": "fragment"
      }
     },
     "outputs": [
      {
       "metadata": {},
       "output_type": "pyout",
<<<<<<< HEAD
<<<<<<< HEAD
       "prompt_number": 54,
       "text": [
        "[u'system.indexes', u'tweets']"
       ]
      }
     ],
     "prompt_number": 54
=======
       "prompt_number": 14,
=======
       "prompt_number": 54,
>>>>>>> 6b44fa29a6c54dae42bfa0e8e0a943d58c6787fe
       "text": [
        "[u'system.indexes', u'tweets']"
       ]
      }
     ],
<<<<<<< HEAD
     "prompt_number": 14
>>>>>>> 0e83ca8b1ad900ed1951e5b5fcd7fe9d6cdddbf4
=======
     "prompt_number": 54
>>>>>>> 6b44fa29a6c54dae42bfa0e8e0a943d58c6787fe
    },
    {
     "cell_type": "code",
     "collapsed": false,
     "input": [
      "db.tweets.find_one()"
     ],
     "language": "python",
     "metadata": {
      "slideshow": {
       "slide_type": "fragment"
      }
     },
     "outputs": [
      {
       "metadata": {},
       "output_type": "pyout",
<<<<<<< HEAD
<<<<<<< HEAD
       "prompt_number": 55,
       "text": [
        "{u'_id': ObjectId('54c1d26646d3d338ebd5e9b1'),\n",
        " u'contributors': None,\n",
        " u'coordinates': None,\n",
        " u'created_at': u'Fri Jan 23 04:23:34 +0000 2015',\n",
        " u'entities': {u'hashtags': [{u'indices': [84, 95], u'text': u'500kLubaTV'}],\n",
        "  u'media': [{u'display_url': u'pic.twitter.com/1zhgdIaxsl',\n",
        "    u'expanded_url': u'http://twitter.com/LubaTV/status/558474724968529921/photo/1',\n",
        "    u'id': 558474718849007616L,\n",
        "    u'id_str': u'558474718849007616',\n",
        "    u'indices': [96, 118],\n",
        "    u'media_url': u'http://pbs.twimg.com/media/B8AZzEEIAAAFGY0.jpg',\n",
        "    u'media_url_https': u'https://pbs.twimg.com/media/B8AZzEEIAAAFGY0.jpg',\n",
        "    u'sizes': {u'large': {u'h': 270, u'resize': u'fit', u'w': 750},\n",
        "     u'medium': {u'h': 216, u'resize': u'fit', u'w': 600},\n",
        "     u'small': {u'h': 122, u'resize': u'fit', u'w': 340},\n",
        "     u'thumb': {u'h': 150, u'resize': u'crop', u'w': 150}},\n",
        "    u'source_status_id': 558474724968529921L,\n",
        "    u'source_status_id_str': u'558474724968529921',\n",
        "    u'source_user_id': 121517065,\n",
        "    u'source_user_id_str': u'121517065',\n",
        "    u'type': u'photo',\n",
        "    u'url': u'http://t.co/1zhgdIaxsl'}],\n",
        "  u'symbols': [],\n",
        "  u'urls': [],\n",
        "  u'user_mentions': [{u'id': 121517065,\n",
        "    u'id_str': u'121517065',\n",
        "    u'indices': [3, 10],\n",
        "    u'name': u'Lucas Feuersch\\xfctte',\n",
        "    u'screen_name': u'LubaTV'}]},\n",
        " u'favorite_count': 0,\n",
        " u'favorited': False,\n",
        " u'geo': None,\n",
        " u'id': 558480131778691072L,\n",
        " u'id_str': u'558480131778691072',\n",
        " u'in_reply_to_screen_name': None,\n",
        " u'in_reply_to_status_id': None,\n",
        " u'in_reply_to_status_id_str': None,\n",
        " u'in_reply_to_user_id': None,\n",
        " u'in_reply_to_user_id_str': None,\n",
        " u'lang': u'pt',\n",
        " u'metadata': {u'iso_language_code': u'pt', u'result_type': u'recent'},\n",
        " u'place': None,\n",
        " u'possibly_sensitive': False,\n",
        " u'retweet_count': 395,\n",
        " u'retweeted': False,\n",
        " u'retweeted_status': {u'contributors': None,\n",
        "  u'coordinates': None,\n",
        "  u'created_at': u'Fri Jan 23 04:02:05 +0000 2015',\n",
        "  u'entities': {u'hashtags': [{u'indices': [72, 83], u'text': u'500kLubaTV'}],\n",
        "   u'media': [{u'display_url': u'pic.twitter.com/1zhgdIaxsl',\n",
        "     u'expanded_url': u'http://twitter.com/LubaTV/status/558474724968529921/photo/1',\n",
        "     u'id': 558474718849007616L,\n",
        "     u'id_str': u'558474718849007616',\n",
        "     u'indices': [84, 106],\n",
        "     u'media_url': u'http://pbs.twimg.com/media/B8AZzEEIAAAFGY0.jpg',\n",
        "     u'media_url_https': u'https://pbs.twimg.com/media/B8AZzEEIAAAFGY0.jpg',\n",
        "     u'sizes': {u'large': {u'h': 270, u'resize': u'fit', u'w': 750},\n",
        "      u'medium': {u'h': 216, u'resize': u'fit', u'w': 600},\n",
        "      u'small': {u'h': 122, u'resize': u'fit', u'w': 340},\n",
        "      u'thumb': {u'h': 150, u'resize': u'crop', u'w': 150}},\n",
        "     u'type': u'photo',\n",
        "     u'url': u'http://t.co/1zhgdIaxsl'}],\n",
        "   u'symbols': [],\n",
        "   u'urls': [],\n",
        "   u'user_mentions': []},\n",
        "  u'favorite_count': 901,\n",
        "  u'favorited': False,\n",
        "  u'geo': None,\n",
        "  u'id': 558474724968529921L,\n",
        "  u'id_str': u'558474724968529921',\n",
        "  u'in_reply_to_screen_name': None,\n",
        "  u'in_reply_to_status_id': None,\n",
        "  u'in_reply_to_status_id_str': None,\n",
        "  u'in_reply_to_user_id': None,\n",
        "  u'in_reply_to_user_id_str': None,\n",
        "  u'lang': u'pt',\n",
        "  u'metadata': {u'iso_language_code': u'pt', u'result_type': u'recent'},\n",
        "  u'place': None,\n",
        "  u'possibly_sensitive': False,\n",
        "  u'retweet_count': 395,\n",
        "  u'retweeted': False,\n",
        "  u'source': u'<a href=\"http://twitter.com/download/iphone\" rel=\"nofollow\">Twitter for iPhone</a>',\n",
        "  u'text': u\"\\xc9 oficial, turma. Somos 500 mil agora! Obrigado, obrigado por tudo. =') #500kLubaTV http://t.co/1zhgdIaxsl\",\n",
        "  u'truncated': False,\n",
        "  u'user': {u'contributors_enabled': False,\n",
        "   u'created_at': u'Tue Mar 09 19:04:06 +0000 2010',\n",
        "   u'default_profile': False,\n",
        "   u'default_profile_image': False,\n",
        "   u'description': u'Sou da turma! \\u270c\\ufe0f Contato: lubatv3@gmail.com | Instagram & Facebook: LubaTV | Caixa Postal 174, 88701-970 Tubar\\xe3o - SC | \\xdaltimo v\\xeddeo: \\u2b07\\ufe0f',\n",
        "   u'entities': {u'description': {u'urls': []},\n",
        "    u'url': {u'urls': [{u'display_url': u'youtu.be/ntMBRQYs-hI',\n",
        "       u'expanded_url': u'http://youtu.be/ntMBRQYs-hI',\n",
        "       u'indices': [0, 22],\n",
        "       u'url': u'http://t.co/4n2e3pI9To'}]}},\n",
        "   u'favourites_count': 722,\n",
        "   u'follow_request_sent': False,\n",
        "   u'followers_count': 118167,\n",
        "   u'following': False,\n",
        "   u'friends_count': 548,\n",
        "   u'geo_enabled': True,\n",
        "   u'id': 121517065,\n",
        "   u'id_str': u'121517065',\n",
        "   u'is_translation_enabled': False,\n",
        "   u'is_translator': False,\n",
        "   u'lang': u'pt',\n",
        "   u'listed_count': 261,\n",
        "   u'location': u'',\n",
        "   u'name': u'Lucas Feuersch\\xfctte',\n",
        "   u'notifications': False,\n",
        "   u'profile_background_color': u'FFF04D',\n",
        "   u'profile_background_image_url': u'http://pbs.twimg.com/profile_background_images/520656124547067904/of-yDc4j.jpeg',\n",
        "   u'profile_background_image_url_https': u'https://pbs.twimg.com/profile_background_images/520656124547067904/of-yDc4j.jpeg',\n",
        "   u'profile_background_tile': True,\n",
        "   u'profile_banner_url': u'https://pbs.twimg.com/profile_banners/121517065/1419199713',\n",
        "   u'profile_image_url': u'http://pbs.twimg.com/profile_images/553302094132690944/cEZfRo8r_normal.png',\n",
        "   u'profile_image_url_https': u'https://pbs.twimg.com/profile_images/553302094132690944/cEZfRo8r_normal.png',\n",
        "   u'profile_link_color': u'0099CC',\n",
        "   u'profile_location': None,\n",
        "   u'profile_sidebar_border_color': u'FFFFFF',\n",
        "   u'profile_sidebar_fill_color': u'DDEEF6',\n",
        "   u'profile_text_color': u'333333',\n",
        "   u'profile_use_background_image': True,\n",
        "   u'protected': False,\n",
        "   u'screen_name': u'LubaTV',\n",
        "   u'statuses_count': 36586,\n",
        "   u'time_zone': u'Brasilia',\n",
        "   u'url': u'http://t.co/4n2e3pI9To',\n",
        "   u'utc_offset': -7200,\n",
        "   u'verified': False}},\n",
        " u'source': u'<a href=\"http://twitter.com\" rel=\"nofollow\">Twitter Web Client</a>',\n",
        " u'text': u\"RT @LubaTV: \\xc9 oficial, turma. Somos 500 mil agora! Obrigado, obrigado por tudo. =') #500kLubaTV http://t.co/1zhgdIaxsl\",\n",
        " u'truncated': False,\n",
        " u'user': {u'contributors_enabled': False,\n",
        "  u'created_at': u'Thu Dec 20 20:15:56 +0000 2012',\n",
        "  u'default_profile': False,\n",
        "  u'default_profile_image': False,\n",
        "  u'description': u'F\\xe3 de uns carinhas ai do YouTube \\u2665 1/1/15 - Rafa respondeu *u*                       19/01/15 - Nay Respondeu *u* #Forfun\\xe1tica',\n",
        "  u'entities': {u'description': {u'urls': []}},\n",
        "  u'favourites_count': 596,\n",
        "  u'follow_request_sent': False,\n",
        "  u'followers_count': 36,\n",
        "  u'following': False,\n",
        "  u'friends_count': 94,\n",
        "  u'geo_enabled': False,\n",
        "  u'id': 1024945802,\n",
        "  u'id_str': u'1024945802',\n",
        "  u'is_translation_enabled': False,\n",
        "  u'is_translator': False,\n",
        "  u'lang': u'pt',\n",
        "  u'listed_count': 1,\n",
        "  u'location': u'Rio de Janeiro',\n",
        "  u'name': u'Biah #ADR ',\n",
        "  u'notifications': False,\n",
        "  u'profile_background_color': u'ACDED6',\n",
        "  u'profile_background_image_url': u'http://abs.twimg.com/images/themes/theme18/bg.gif',\n",
        "  u'profile_background_image_url_https': u'https://abs.twimg.com/images/themes/theme18/bg.gif',\n",
        "  u'profile_background_tile': False,\n",
        "  u'profile_banner_url': u'https://pbs.twimg.com/profile_banners/1024945802/1421771885',\n",
        "  u'profile_image_url': u'http://pbs.twimg.com/profile_images/556923388615090176/UiQb8z54_normal.jpeg',\n",
        "  u'profile_image_url_https': u'https://pbs.twimg.com/profile_images/556923388615090176/UiQb8z54_normal.jpeg',\n",
        "  u'profile_link_color': u'9266CC',\n",
        "  u'profile_location': None,\n",
        "  u'profile_sidebar_border_color': u'FFFFFF',\n",
        "  u'profile_sidebar_fill_color': u'F6F6F6',\n",
        "  u'profile_text_color': u'333333',\n",
        "  u'profile_use_background_image': True,\n",
        "  u'protected': False,\n",
        "  u'screen_name': u'_beatriz_27',\n",
        "  u'statuses_count': 838,\n",
        "  u'time_zone': u'Brasilia',\n",
        "  u'url': None,\n",
        "  u'utc_offset': -7200,\n",
=======
       "prompt_number": 15,
=======
       "prompt_number": 55,
>>>>>>> 6b44fa29a6c54dae42bfa0e8e0a943d58c6787fe
       "text": [
        "{u'_id': ObjectId('54c1d26646d3d338ebd5e9b1'),\n",
        " u'contributors': None,\n",
        " u'coordinates': None,\n",
        " u'created_at': u'Fri Jan 23 04:23:34 +0000 2015',\n",
        " u'entities': {u'hashtags': [{u'indices': [84, 95], u'text': u'500kLubaTV'}],\n",
        "  u'media': [{u'display_url': u'pic.twitter.com/1zhgdIaxsl',\n",
        "    u'expanded_url': u'http://twitter.com/LubaTV/status/558474724968529921/photo/1',\n",
        "    u'id': 558474718849007616L,\n",
        "    u'id_str': u'558474718849007616',\n",
        "    u'indices': [96, 118],\n",
        "    u'media_url': u'http://pbs.twimg.com/media/B8AZzEEIAAAFGY0.jpg',\n",
        "    u'media_url_https': u'https://pbs.twimg.com/media/B8AZzEEIAAAFGY0.jpg',\n",
        "    u'sizes': {u'large': {u'h': 270, u'resize': u'fit', u'w': 750},\n",
        "     u'medium': {u'h': 216, u'resize': u'fit', u'w': 600},\n",
        "     u'small': {u'h': 122, u'resize': u'fit', u'w': 340},\n",
        "     u'thumb': {u'h': 150, u'resize': u'crop', u'w': 150}},\n",
        "    u'source_status_id': 558474724968529921L,\n",
        "    u'source_status_id_str': u'558474724968529921',\n",
        "    u'source_user_id': 121517065,\n",
        "    u'source_user_id_str': u'121517065',\n",
        "    u'type': u'photo',\n",
        "    u'url': u'http://t.co/1zhgdIaxsl'}],\n",
        "  u'symbols': [],\n",
        "  u'urls': [],\n",
        "  u'user_mentions': [{u'id': 121517065,\n",
        "    u'id_str': u'121517065',\n",
        "    u'indices': [3, 10],\n",
        "    u'name': u'Lucas Feuersch\\xfctte',\n",
        "    u'screen_name': u'LubaTV'}]},\n",
        " u'favorite_count': 0,\n",
        " u'favorited': False,\n",
        " u'geo': None,\n",
        " u'id': 558480131778691072L,\n",
        " u'id_str': u'558480131778691072',\n",
        " u'in_reply_to_screen_name': None,\n",
        " u'in_reply_to_status_id': None,\n",
        " u'in_reply_to_status_id_str': None,\n",
        " u'in_reply_to_user_id': None,\n",
        " u'in_reply_to_user_id_str': None,\n",
        " u'lang': u'pt',\n",
        " u'metadata': {u'iso_language_code': u'pt', u'result_type': u'recent'},\n",
        " u'place': None,\n",
        " u'possibly_sensitive': False,\n",
        " u'retweet_count': 395,\n",
        " u'retweeted': False,\n",
        " u'retweeted_status': {u'contributors': None,\n",
        "  u'coordinates': None,\n",
        "  u'created_at': u'Fri Jan 23 04:02:05 +0000 2015',\n",
        "  u'entities': {u'hashtags': [{u'indices': [72, 83], u'text': u'500kLubaTV'}],\n",
        "   u'media': [{u'display_url': u'pic.twitter.com/1zhgdIaxsl',\n",
        "     u'expanded_url': u'http://twitter.com/LubaTV/status/558474724968529921/photo/1',\n",
        "     u'id': 558474718849007616L,\n",
        "     u'id_str': u'558474718849007616',\n",
        "     u'indices': [84, 106],\n",
        "     u'media_url': u'http://pbs.twimg.com/media/B8AZzEEIAAAFGY0.jpg',\n",
        "     u'media_url_https': u'https://pbs.twimg.com/media/B8AZzEEIAAAFGY0.jpg',\n",
        "     u'sizes': {u'large': {u'h': 270, u'resize': u'fit', u'w': 750},\n",
        "      u'medium': {u'h': 216, u'resize': u'fit', u'w': 600},\n",
        "      u'small': {u'h': 122, u'resize': u'fit', u'w': 340},\n",
        "      u'thumb': {u'h': 150, u'resize': u'crop', u'w': 150}},\n",
        "     u'type': u'photo',\n",
        "     u'url': u'http://t.co/1zhgdIaxsl'}],\n",
        "   u'symbols': [],\n",
        "   u'urls': [],\n",
        "   u'user_mentions': []},\n",
        "  u'favorite_count': 901,\n",
        "  u'favorited': False,\n",
        "  u'geo': None,\n",
        "  u'id': 558474724968529921L,\n",
        "  u'id_str': u'558474724968529921',\n",
        "  u'in_reply_to_screen_name': None,\n",
        "  u'in_reply_to_status_id': None,\n",
        "  u'in_reply_to_status_id_str': None,\n",
        "  u'in_reply_to_user_id': None,\n",
        "  u'in_reply_to_user_id_str': None,\n",
        "  u'lang': u'pt',\n",
        "  u'metadata': {u'iso_language_code': u'pt', u'result_type': u'recent'},\n",
        "  u'place': None,\n",
        "  u'possibly_sensitive': False,\n",
        "  u'retweet_count': 395,\n",
        "  u'retweeted': False,\n",
        "  u'source': u'<a href=\"http://twitter.com/download/iphone\" rel=\"nofollow\">Twitter for iPhone</a>',\n",
        "  u'text': u\"\\xc9 oficial, turma. Somos 500 mil agora! Obrigado, obrigado por tudo. =') #500kLubaTV http://t.co/1zhgdIaxsl\",\n",
        "  u'truncated': False,\n",
        "  u'user': {u'contributors_enabled': False,\n",
        "   u'created_at': u'Tue Mar 09 19:04:06 +0000 2010',\n",
        "   u'default_profile': False,\n",
        "   u'default_profile_image': False,\n",
        "   u'description': u'Sou da turma! \\u270c\\ufe0f Contato: lubatv3@gmail.com | Instagram & Facebook: LubaTV | Caixa Postal 174, 88701-970 Tubar\\xe3o - SC | \\xdaltimo v\\xeddeo: \\u2b07\\ufe0f',\n",
        "   u'entities': {u'description': {u'urls': []},\n",
        "    u'url': {u'urls': [{u'display_url': u'youtu.be/ntMBRQYs-hI',\n",
        "       u'expanded_url': u'http://youtu.be/ntMBRQYs-hI',\n",
        "       u'indices': [0, 22],\n",
        "       u'url': u'http://t.co/4n2e3pI9To'}]}},\n",
        "   u'favourites_count': 722,\n",
        "   u'follow_request_sent': False,\n",
        "   u'followers_count': 118167,\n",
        "   u'following': False,\n",
        "   u'friends_count': 548,\n",
        "   u'geo_enabled': True,\n",
        "   u'id': 121517065,\n",
        "   u'id_str': u'121517065',\n",
        "   u'is_translation_enabled': False,\n",
        "   u'is_translator': False,\n",
        "   u'lang': u'pt',\n",
        "   u'listed_count': 261,\n",
        "   u'location': u'',\n",
        "   u'name': u'Lucas Feuersch\\xfctte',\n",
        "   u'notifications': False,\n",
        "   u'profile_background_color': u'FFF04D',\n",
        "   u'profile_background_image_url': u'http://pbs.twimg.com/profile_background_images/520656124547067904/of-yDc4j.jpeg',\n",
        "   u'profile_background_image_url_https': u'https://pbs.twimg.com/profile_background_images/520656124547067904/of-yDc4j.jpeg',\n",
        "   u'profile_background_tile': True,\n",
        "   u'profile_banner_url': u'https://pbs.twimg.com/profile_banners/121517065/1419199713',\n",
        "   u'profile_image_url': u'http://pbs.twimg.com/profile_images/553302094132690944/cEZfRo8r_normal.png',\n",
        "   u'profile_image_url_https': u'https://pbs.twimg.com/profile_images/553302094132690944/cEZfRo8r_normal.png',\n",
        "   u'profile_link_color': u'0099CC',\n",
        "   u'profile_location': None,\n",
        "   u'profile_sidebar_border_color': u'FFFFFF',\n",
        "   u'profile_sidebar_fill_color': u'DDEEF6',\n",
        "   u'profile_text_color': u'333333',\n",
        "   u'profile_use_background_image': True,\n",
        "   u'protected': False,\n",
        "   u'screen_name': u'LubaTV',\n",
        "   u'statuses_count': 36586,\n",
        "   u'time_zone': u'Brasilia',\n",
        "   u'url': u'http://t.co/4n2e3pI9To',\n",
        "   u'utc_offset': -7200,\n",
        "   u'verified': False}},\n",
        " u'source': u'<a href=\"http://twitter.com\" rel=\"nofollow\">Twitter Web Client</a>',\n",
        " u'text': u\"RT @LubaTV: \\xc9 oficial, turma. Somos 500 mil agora! Obrigado, obrigado por tudo. =') #500kLubaTV http://t.co/1zhgdIaxsl\",\n",
        " u'truncated': False,\n",
        " u'user': {u'contributors_enabled': False,\n",
        "  u'created_at': u'Thu Dec 20 20:15:56 +0000 2012',\n",
        "  u'default_profile': False,\n",
        "  u'default_profile_image': False,\n",
        "  u'description': u'F\\xe3 de uns carinhas ai do YouTube \\u2665 1/1/15 - Rafa respondeu *u*                       19/01/15 - Nay Respondeu *u* #Forfun\\xe1tica',\n",
        "  u'entities': {u'description': {u'urls': []}},\n",
        "  u'favourites_count': 596,\n",
        "  u'follow_request_sent': False,\n",
        "  u'followers_count': 36,\n",
        "  u'following': False,\n",
        "  u'friends_count': 94,\n",
        "  u'geo_enabled': False,\n",
        "  u'id': 1024945802,\n",
        "  u'id_str': u'1024945802',\n",
        "  u'is_translation_enabled': False,\n",
        "  u'is_translator': False,\n",
        "  u'lang': u'pt',\n",
        "  u'listed_count': 1,\n",
        "  u'location': u'Rio de Janeiro',\n",
        "  u'name': u'Biah #ADR ',\n",
        "  u'notifications': False,\n",
        "  u'profile_background_color': u'ACDED6',\n",
        "  u'profile_background_image_url': u'http://abs.twimg.com/images/themes/theme18/bg.gif',\n",
        "  u'profile_background_image_url_https': u'https://abs.twimg.com/images/themes/theme18/bg.gif',\n",
        "  u'profile_background_tile': False,\n",
        "  u'profile_banner_url': u'https://pbs.twimg.com/profile_banners/1024945802/1421771885',\n",
        "  u'profile_image_url': u'http://pbs.twimg.com/profile_images/556923388615090176/UiQb8z54_normal.jpeg',\n",
        "  u'profile_image_url_https': u'https://pbs.twimg.com/profile_images/556923388615090176/UiQb8z54_normal.jpeg',\n",
        "  u'profile_link_color': u'9266CC',\n",
        "  u'profile_location': None,\n",
        "  u'profile_sidebar_border_color': u'FFFFFF',\n",
        "  u'profile_sidebar_fill_color': u'F6F6F6',\n",
        "  u'profile_text_color': u'333333',\n",
        "  u'profile_use_background_image': True,\n",
        "  u'protected': False,\n",
        "  u'screen_name': u'_beatriz_27',\n",
        "  u'statuses_count': 838,\n",
        "  u'time_zone': u'Brasilia',\n",
        "  u'url': None,\n",
<<<<<<< HEAD
        "  u'utc_offset': -10800,\n",
>>>>>>> 0e83ca8b1ad900ed1951e5b5fcd7fe9d6cdddbf4
=======
        "  u'utc_offset': -7200,\n",
>>>>>>> 6b44fa29a6c54dae42bfa0e8e0a943d58c6787fe
        "  u'verified': False}}"
       ]
      }
     ],
<<<<<<< HEAD
<<<<<<< HEAD
     "prompt_number": 55
=======
     "prompt_number": 15
>>>>>>> 0e83ca8b1ad900ed1951e5b5fcd7fe9d6cdddbf4
=======
     "prompt_number": 55
>>>>>>> 6b44fa29a6c54dae42bfa0e8e0a943d58c6787fe
    },
    {
     "cell_type": "markdown",
     "metadata": {
      "slideshow": {
       "slide_type": "notes"
      }
     },
     "source": [
      "Notice the `_id` included in the document along with the values we already saw before."
     ]
    },
    {
     "cell_type": "markdown",
     "metadata": {
      "slideshow": {
       "slide_type": "slide"
      }
     },
     "source": [
      "Now that we have our data in MongoDB, we can use some of it's search functionality. For example:"
     ]
    },
    {
     "cell_type": "code",
     "collapsed": false,
     "input": [
<<<<<<< HEAD
<<<<<<< HEAD
      "popular_tweets = db.tweets.find({'retweet_count': {\"$gte\": 100}})\n",
=======
      "popular_tweets = db.tweets.find({'retweet_count': {\"$gte\": 3}})\n",
>>>>>>> 0e83ca8b1ad900ed1951e5b5fcd7fe9d6cdddbf4
=======
      "popular_tweets = db.tweets.find({'retweet_count': {\"$gte\": 100}})\n",
>>>>>>> 6b44fa29a6c54dae42bfa0e8e0a943d58c6787fe
      "popular_tweets.count()"
     ],
     "language": "python",
     "metadata": {
      "slideshow": {
       "slide_type": "fragment"
      }
     },
     "outputs": [
      {
       "metadata": {},
       "output_type": "pyout",
<<<<<<< HEAD
<<<<<<< HEAD
       "prompt_number": 59,
       "text": [
        "76"
       ]
      }
     ],
     "prompt_number": 59
=======
       "prompt_number": 16,
=======
       "prompt_number": 59,
>>>>>>> 6b44fa29a6c54dae42bfa0e8e0a943d58c6787fe
       "text": [
        "76"
       ]
      }
     ],
<<<<<<< HEAD
     "prompt_number": 16
>>>>>>> 0e83ca8b1ad900ed1951e5b5fcd7fe9d6cdddbf4
=======
     "prompt_number": 59
>>>>>>> 6b44fa29a6c54dae42bfa0e8e0a943d58c6787fe
    },
    {
     "cell_type": "markdown",
     "metadata": {
      "slideshow": {
       "slide_type": "slide"
      }
     },
     "source": [
      "Making Sense with Pandas\n",
      "========================"
     ]
    },
    {
     "cell_type": "code",
     "collapsed": false,
     "input": [
      "pd.DataFrame(db.tweets.find(fields=['created_at', 'retweet_count', 'favorite_count']))"
     ],
     "language": "python",
     "metadata": {
      "slideshow": {
       "slide_type": "slide"
      }
     },
     "outputs": [
      {
<<<<<<< HEAD
<<<<<<< HEAD
       "ename": "TypeError",
       "evalue": "data argument can't be an iterator",
       "output_type": "pyerr",
       "traceback": [
        "\u001b[0;31m---------------------------------------------------------------------------\u001b[0m\n\u001b[0;31mTypeError\u001b[0m                                 Traceback (most recent call last)",
        "\u001b[0;32m<ipython-input-60-87a1cfed5405>\u001b[0m in \u001b[0;36m<module>\u001b[0;34m()\u001b[0m\n\u001b[0;32m----> 1\u001b[0;31m \u001b[0mpd\u001b[0m\u001b[0;34m.\u001b[0m\u001b[0mDataFrame\u001b[0m\u001b[0;34m(\u001b[0m\u001b[0mdb\u001b[0m\u001b[0;34m.\u001b[0m\u001b[0mtweets\u001b[0m\u001b[0;34m.\u001b[0m\u001b[0mfind\u001b[0m\u001b[0;34m(\u001b[0m\u001b[0mfields\u001b[0m\u001b[0;34m=\u001b[0m\u001b[0;34m[\u001b[0m\u001b[0;34m'created_at'\u001b[0m\u001b[0;34m,\u001b[0m \u001b[0;34m'retweet_count'\u001b[0m\u001b[0;34m,\u001b[0m \u001b[0;34m'favorite_count'\u001b[0m\u001b[0;34m]\u001b[0m\u001b[0;34m)\u001b[0m\u001b[0;34m)\u001b[0m\u001b[0;34m\u001b[0m\u001b[0m\n\u001b[0m",
        "\u001b[0;32m/Users/alessandro.gagliardi/anaconda/lib/python2.7/site-packages/pandas/core/frame.pyc\u001b[0m in \u001b[0;36m__init__\u001b[0;34m(self, data, index, columns, dtype, copy)\u001b[0m\n\u001b[1;32m    264\u001b[0m                                          copy=copy)\n\u001b[1;32m    265\u001b[0m         \u001b[0;32melif\u001b[0m \u001b[0misinstance\u001b[0m\u001b[0;34m(\u001b[0m\u001b[0mdata\u001b[0m\u001b[0;34m,\u001b[0m \u001b[0mcollections\u001b[0m\u001b[0;34m.\u001b[0m\u001b[0mIterator\u001b[0m\u001b[0;34m)\u001b[0m\u001b[0;34m:\u001b[0m\u001b[0;34m\u001b[0m\u001b[0m\n\u001b[0;32m--> 266\u001b[0;31m             \u001b[0;32mraise\u001b[0m \u001b[0mTypeError\u001b[0m\u001b[0;34m(\u001b[0m\u001b[0;34m\"data argument can't be an iterator\"\u001b[0m\u001b[0;34m)\u001b[0m\u001b[0;34m\u001b[0m\u001b[0m\n\u001b[0m\u001b[1;32m    267\u001b[0m         \u001b[0;32melse\u001b[0m\u001b[0;34m:\u001b[0m\u001b[0;34m\u001b[0m\u001b[0m\n\u001b[1;32m    268\u001b[0m             \u001b[0;32mtry\u001b[0m\u001b[0;34m:\u001b[0m\u001b[0;34m\u001b[0m\u001b[0m\n",
        "\u001b[0;31mTypeError\u001b[0m: data argument can't be an iterator"
       ]
      }
     ],
     "prompt_number": 60
=======
       "ename": "PandasError",
       "evalue": "DataFrame constructor not properly called!",
=======
       "ename": "TypeError",
       "evalue": "data argument can't be an iterator",
>>>>>>> 6b44fa29a6c54dae42bfa0e8e0a943d58c6787fe
       "output_type": "pyerr",
       "traceback": [
        "\u001b[0;31m---------------------------------------------------------------------------\u001b[0m\n\u001b[0;31mTypeError\u001b[0m                                 Traceback (most recent call last)",
        "\u001b[0;32m<ipython-input-60-87a1cfed5405>\u001b[0m in \u001b[0;36m<module>\u001b[0;34m()\u001b[0m\n\u001b[0;32m----> 1\u001b[0;31m \u001b[0mpd\u001b[0m\u001b[0;34m.\u001b[0m\u001b[0mDataFrame\u001b[0m\u001b[0;34m(\u001b[0m\u001b[0mdb\u001b[0m\u001b[0;34m.\u001b[0m\u001b[0mtweets\u001b[0m\u001b[0;34m.\u001b[0m\u001b[0mfind\u001b[0m\u001b[0;34m(\u001b[0m\u001b[0mfields\u001b[0m\u001b[0;34m=\u001b[0m\u001b[0;34m[\u001b[0m\u001b[0;34m'created_at'\u001b[0m\u001b[0;34m,\u001b[0m \u001b[0;34m'retweet_count'\u001b[0m\u001b[0;34m,\u001b[0m \u001b[0;34m'favorite_count'\u001b[0m\u001b[0;34m]\u001b[0m\u001b[0;34m)\u001b[0m\u001b[0;34m)\u001b[0m\u001b[0;34m\u001b[0m\u001b[0m\n\u001b[0m",
        "\u001b[0;32m/Users/alessandro.gagliardi/anaconda/lib/python2.7/site-packages/pandas/core/frame.pyc\u001b[0m in \u001b[0;36m__init__\u001b[0;34m(self, data, index, columns, dtype, copy)\u001b[0m\n\u001b[1;32m    264\u001b[0m                                          copy=copy)\n\u001b[1;32m    265\u001b[0m         \u001b[0;32melif\u001b[0m \u001b[0misinstance\u001b[0m\u001b[0;34m(\u001b[0m\u001b[0mdata\u001b[0m\u001b[0;34m,\u001b[0m \u001b[0mcollections\u001b[0m\u001b[0;34m.\u001b[0m\u001b[0mIterator\u001b[0m\u001b[0;34m)\u001b[0m\u001b[0;34m:\u001b[0m\u001b[0;34m\u001b[0m\u001b[0m\n\u001b[0;32m--> 266\u001b[0;31m             \u001b[0;32mraise\u001b[0m \u001b[0mTypeError\u001b[0m\u001b[0;34m(\u001b[0m\u001b[0;34m\"data argument can't be an iterator\"\u001b[0m\u001b[0;34m)\u001b[0m\u001b[0;34m\u001b[0m\u001b[0m\n\u001b[0m\u001b[1;32m    267\u001b[0m         \u001b[0;32melse\u001b[0m\u001b[0;34m:\u001b[0m\u001b[0;34m\u001b[0m\u001b[0m\n\u001b[1;32m    268\u001b[0m             \u001b[0;32mtry\u001b[0m\u001b[0;34m:\u001b[0m\u001b[0;34m\u001b[0m\u001b[0m\n",
        "\u001b[0;31mTypeError\u001b[0m: data argument can't be an iterator"
       ]
      }
     ],
<<<<<<< HEAD
     "prompt_number": 17
>>>>>>> 0e83ca8b1ad900ed1951e5b5fcd7fe9d6cdddbf4
=======
     "prompt_number": 60
>>>>>>> 6b44fa29a6c54dae42bfa0e8e0a943d58c6787fe
    },
    {
     "cell_type": "code",
     "collapsed": false,
     "input": [
      "retweet_favorites = pd.DataFrame(list(db.tweets.find(fields=['created_at','retweet_count','favorite_count'])))\n",
      "retweet_favorites.head()"
     ],
     "language": "python",
     "metadata": {
      "slideshow": {
       "slide_type": "subslide"
      }
     },
     "outputs": [
      {
       "html": [
        "<div style=\"max-height:1000px;max-width:1500px;overflow:auto;\">\n",
        "<table border=\"1\" class=\"dataframe\">\n",
        "  <thead>\n",
        "    <tr style=\"text-align: right;\">\n",
        "      <th></th>\n",
        "      <th>_id</th>\n",
        "      <th>created_at</th>\n",
        "      <th>favorite_count</th>\n",
        "      <th>retweet_count</th>\n",
        "    </tr>\n",
        "  </thead>\n",
        "  <tbody>\n",
        "    <tr>\n",
        "      <th>0</th>\n",
<<<<<<< HEAD
<<<<<<< HEAD
        "      <td> 54c1d26646d3d338ebd5e9b1</td>\n",
        "      <td> Fri Jan 23 04:23:34 +0000 2015</td>\n",
        "      <td> 0</td>\n",
        "      <td> 395</td>\n",
        "    </tr>\n",
        "    <tr>\n",
        "      <th>1</th>\n",
        "      <td> 54c1d26646d3d338ebd5e9b2</td>\n",
        "      <td> Fri Jan 23 04:23:30 +0000 2015</td>\n",
        "      <td> 0</td>\n",
        "      <td> 115</td>\n",
        "    </tr>\n",
        "    <tr>\n",
        "      <th>2</th>\n",
        "      <td> 54c1d26646d3d338ebd5e9b3</td>\n",
        "      <td> Fri Jan 23 04:23:29 +0000 2015</td>\n",
        "      <td> 0</td>\n",
        "      <td>   0</td>\n",
        "    </tr>\n",
        "    <tr>\n",
        "      <th>3</th>\n",
        "      <td> 54c1d26646d3d338ebd5e9b4</td>\n",
        "      <td> Fri Jan 23 04:23:23 +0000 2015</td>\n",
        "      <td> 0</td>\n",
        "      <td> 395</td>\n",
        "    </tr>\n",
        "    <tr>\n",
        "      <th>4</th>\n",
        "      <td> 54c1d26646d3d338ebd5e9b5</td>\n",
        "      <td> Fri Jan 23 04:23:19 +0000 2015</td>\n",
        "      <td> 0</td>\n",
        "      <td> 222</td>\n",
        "    </tr>\n",
        "  </tbody>\n",
        "</table>\n",
=======
        "      <td> 53531654bcdefe0e658cbf07</td>\n",
        "      <td> Sun Apr 20 00:34:04 +0000 2014</td>\n",
=======
        "      <td> 54c1d26646d3d338ebd5e9b1</td>\n",
        "      <td> Fri Jan 23 04:23:34 +0000 2015</td>\n",
>>>>>>> 6b44fa29a6c54dae42bfa0e8e0a943d58c6787fe
        "      <td> 0</td>\n",
        "      <td> 395</td>\n",
        "    </tr>\n",
        "    <tr>\n",
        "      <th>1</th>\n",
        "      <td> 54c1d26646d3d338ebd5e9b2</td>\n",
        "      <td> Fri Jan 23 04:23:30 +0000 2015</td>\n",
        "      <td> 0</td>\n",
        "      <td> 115</td>\n",
        "    </tr>\n",
        "    <tr>\n",
        "      <th>2</th>\n",
        "      <td> 54c1d26646d3d338ebd5e9b3</td>\n",
        "      <td> Fri Jan 23 04:23:29 +0000 2015</td>\n",
        "      <td> 0</td>\n",
        "      <td>   0</td>\n",
        "    </tr>\n",
        "    <tr>\n",
        "      <th>3</th>\n",
        "      <td> 54c1d26646d3d338ebd5e9b4</td>\n",
        "      <td> Fri Jan 23 04:23:23 +0000 2015</td>\n",
        "      <td> 0</td>\n",
        "      <td> 395</td>\n",
        "    </tr>\n",
        "    <tr>\n",
        "      <th>4</th>\n",
        "      <td> 54c1d26646d3d338ebd5e9b5</td>\n",
        "      <td> Fri Jan 23 04:23:19 +0000 2015</td>\n",
        "      <td> 0</td>\n",
        "      <td> 222</td>\n",
        "    </tr>\n",
        "  </tbody>\n",
        "</table>\n",
<<<<<<< HEAD
        "<p>5 rows \u00d7 4 columns</p>\n",
>>>>>>> 0e83ca8b1ad900ed1951e5b5fcd7fe9d6cdddbf4
=======
>>>>>>> 6b44fa29a6c54dae42bfa0e8e0a943d58c6787fe
        "</div>"
       ],
       "metadata": {},
       "output_type": "pyout",
<<<<<<< HEAD
<<<<<<< HEAD
       "prompt_number": 61,
       "text": [
        "                        _id                      created_at  favorite_count  \\\n",
        "0  54c1d26646d3d338ebd5e9b1  Fri Jan 23 04:23:34 +0000 2015               0   \n",
        "1  54c1d26646d3d338ebd5e9b2  Fri Jan 23 04:23:30 +0000 2015               0   \n",
        "2  54c1d26646d3d338ebd5e9b3  Fri Jan 23 04:23:29 +0000 2015               0   \n",
        "3  54c1d26646d3d338ebd5e9b4  Fri Jan 23 04:23:23 +0000 2015               0   \n",
        "4  54c1d26646d3d338ebd5e9b5  Fri Jan 23 04:23:19 +0000 2015               0   \n",
        "\n",
        "   retweet_count  \n",
        "0            395  \n",
        "1            115  \n",
        "2              0  \n",
        "3            395  \n",
        "4            222  "
       ]
      }
     ],
     "prompt_number": 61
=======
       "prompt_number": 18,
=======
       "prompt_number": 61,
>>>>>>> 6b44fa29a6c54dae42bfa0e8e0a943d58c6787fe
       "text": [
        "                        _id                      created_at  favorite_count  \\\n",
        "0  54c1d26646d3d338ebd5e9b1  Fri Jan 23 04:23:34 +0000 2015               0   \n",
        "1  54c1d26646d3d338ebd5e9b2  Fri Jan 23 04:23:30 +0000 2015               0   \n",
        "2  54c1d26646d3d338ebd5e9b3  Fri Jan 23 04:23:29 +0000 2015               0   \n",
        "3  54c1d26646d3d338ebd5e9b4  Fri Jan 23 04:23:23 +0000 2015               0   \n",
        "4  54c1d26646d3d338ebd5e9b5  Fri Jan 23 04:23:19 +0000 2015               0   \n",
        "\n",
        "   retweet_count  \n",
        "0            395  \n",
        "1            115  \n",
        "2              0  \n",
        "3            395  \n",
        "4            222  "
       ]
      }
     ],
<<<<<<< HEAD
     "prompt_number": 18
>>>>>>> 0e83ca8b1ad900ed1951e5b5fcd7fe9d6cdddbf4
=======
     "prompt_number": 61
>>>>>>> 6b44fa29a6c54dae42bfa0e8e0a943d58c6787fe
    },
    {
     "cell_type": "markdown",
     "metadata": {
      "slideshow": {
       "slide_type": "slide"
      }
     },
     "source": [
      "`.describe()` is a useful method to get the gist of our data."
     ]
    },
    {
     "cell_type": "code",
     "collapsed": false,
     "input": [
      "retweet_favorites.describe()"
     ],
     "language": "python",
     "metadata": {
      "slideshow": {
       "slide_type": "-"
      }
     },
     "outputs": [
      {
       "html": [
        "<div style=\"max-height:1000px;max-width:1500px;overflow:auto;\">\n",
        "<table border=\"1\" class=\"dataframe\">\n",
        "  <thead>\n",
        "    <tr style=\"text-align: right;\">\n",
        "      <th></th>\n",
        "      <th>favorite_count</th>\n",
        "      <th>retweet_count</th>\n",
        "    </tr>\n",
        "  </thead>\n",
        "  <tbody>\n",
        "    <tr>\n",
        "      <th>count</th>\n",
<<<<<<< HEAD
<<<<<<< HEAD
        "      <td> 200.000000</td>\n",
        "      <td> 200.000000</td>\n",
        "    </tr>\n",
        "    <tr>\n",
        "      <th>mean</th>\n",
        "      <td>   0.100000</td>\n",
        "      <td> 109.575000</td>\n",
        "    </tr>\n",
        "    <tr>\n",
        "      <th>std</th>\n",
        "      <td>   0.459408</td>\n",
        "      <td> 141.338662</td>\n",
        "    </tr>\n",
        "    <tr>\n",
        "      <th>min</th>\n",
        "      <td>   0.000000</td>\n",
        "      <td>   0.000000</td>\n",
        "    </tr>\n",
        "    <tr>\n",
        "      <th>25%</th>\n",
        "      <td>   0.000000</td>\n",
        "      <td>   0.000000</td>\n",
        "    </tr>\n",
        "    <tr>\n",
        "      <th>50%</th>\n",
        "      <td>   0.000000</td>\n",
        "      <td>  14.000000</td>\n",
        "    </tr>\n",
        "    <tr>\n",
        "      <th>75%</th>\n",
        "      <td>   0.000000</td>\n",
        "      <td> 228.000000</td>\n",
        "    </tr>\n",
        "    <tr>\n",
        "      <th>max</th>\n",
        "      <td>   4.000000</td>\n",
        "      <td> 402.000000</td>\n",
        "    </tr>\n",
        "  </tbody>\n",
        "</table>\n",
=======
        "      <td> 400.0000</td>\n",
        "      <td>   400.000000</td>\n",
=======
        "      <td> 200.000000</td>\n",
        "      <td> 200.000000</td>\n",
>>>>>>> 6b44fa29a6c54dae42bfa0e8e0a943d58c6787fe
        "    </tr>\n",
        "    <tr>\n",
        "      <th>mean</th>\n",
        "      <td>   0.100000</td>\n",
        "      <td> 109.575000</td>\n",
        "    </tr>\n",
        "    <tr>\n",
        "      <th>std</th>\n",
        "      <td>   0.459408</td>\n",
        "      <td> 141.338662</td>\n",
        "    </tr>\n",
        "    <tr>\n",
        "      <th>min</th>\n",
        "      <td>   0.000000</td>\n",
        "      <td>   0.000000</td>\n",
        "    </tr>\n",
        "    <tr>\n",
        "      <th>25%</th>\n",
        "      <td>   0.000000</td>\n",
        "      <td>   0.000000</td>\n",
        "    </tr>\n",
        "    <tr>\n",
        "      <th>50%</th>\n",
        "      <td>   0.000000</td>\n",
        "      <td>  14.000000</td>\n",
        "    </tr>\n",
        "    <tr>\n",
        "      <th>75%</th>\n",
        "      <td>   0.000000</td>\n",
        "      <td> 228.000000</td>\n",
        "    </tr>\n",
        "    <tr>\n",
        "      <th>max</th>\n",
        "      <td>   4.000000</td>\n",
        "      <td> 402.000000</td>\n",
        "    </tr>\n",
        "  </tbody>\n",
        "</table>\n",
<<<<<<< HEAD
        "<p>8 rows \u00d7 2 columns</p>\n",
>>>>>>> 0e83ca8b1ad900ed1951e5b5fcd7fe9d6cdddbf4
=======
>>>>>>> 6b44fa29a6c54dae42bfa0e8e0a943d58c6787fe
        "</div>"
       ],
       "metadata": {},
       "output_type": "pyout",
<<<<<<< HEAD
<<<<<<< HEAD
       "prompt_number": 62,
       "text": [
        "       favorite_count  retweet_count\n",
        "count      200.000000     200.000000\n",
        "mean         0.100000     109.575000\n",
        "std          0.459408     141.338662\n",
        "min          0.000000       0.000000\n",
        "25%          0.000000       0.000000\n",
        "50%          0.000000      14.000000\n",
        "75%          0.000000     228.000000\n",
        "max          4.000000     402.000000"
       ]
      }
     ],
     "prompt_number": 62
=======
       "prompt_number": 19,
=======
       "prompt_number": 62,
>>>>>>> 6b44fa29a6c54dae42bfa0e8e0a943d58c6787fe
       "text": [
        "       favorite_count  retweet_count\n",
        "count      200.000000     200.000000\n",
        "mean         0.100000     109.575000\n",
        "std          0.459408     141.338662\n",
        "min          0.000000       0.000000\n",
        "25%          0.000000       0.000000\n",
        "50%          0.000000      14.000000\n",
        "75%          0.000000     228.000000\n",
        "max          4.000000     402.000000"
       ]
      }
     ],
<<<<<<< HEAD
     "prompt_number": 19
>>>>>>> 0e83ca8b1ad900ed1951e5b5fcd7fe9d6cdddbf4
=======
     "prompt_number": 62
>>>>>>> 6b44fa29a6c54dae42bfa0e8e0a943d58c6787fe
    },
    {
     "cell_type": "markdown",
     "metadata": {
      "slideshow": {
       "slide_type": "subslide"
      }
     },
     "source": [
      "However, when applied to a DataFrame, it only describes numeric columns."
     ]
    },
    {
     "cell_type": "code",
     "collapsed": false,
     "input": [
      "retweet_favorites.dtypes"
     ],
     "language": "python",
     "metadata": {
      "slideshow": {
       "slide_type": "-"
      }
     },
     "outputs": [
      {
       "metadata": {},
       "output_type": "pyout",
<<<<<<< HEAD
<<<<<<< HEAD
       "prompt_number": 63,
=======
       "prompt_number": 20,
>>>>>>> 0e83ca8b1ad900ed1951e5b5fcd7fe9d6cdddbf4
=======
       "prompt_number": 63,
>>>>>>> 6b44fa29a6c54dae42bfa0e8e0a943d58c6787fe
       "text": [
        "_id               object\n",
        "created_at        object\n",
        "favorite_count     int64\n",
        "retweet_count      int64\n",
        "dtype: object"
       ]
      }
     ],
<<<<<<< HEAD
<<<<<<< HEAD
     "prompt_number": 63
=======
     "prompt_number": 20
>>>>>>> 0e83ca8b1ad900ed1951e5b5fcd7fe9d6cdddbf4
=======
     "prompt_number": 63
>>>>>>> 6b44fa29a6c54dae42bfa0e8e0a943d58c6787fe
    },
    {
     "cell_type": "markdown",
     "metadata": {
      "slideshow": {
       "slide_type": "subslide"
      }
     },
     "source": [
      "`.describe()` can be called on individual columns (i.e. `Series`), even if they are not numeric."
     ]
    },
    {
     "cell_type": "code",
     "collapsed": false,
     "input": [
      "retweet_favorites.created_at.describe()"
     ],
     "language": "python",
     "metadata": {
      "slideshow": {
       "slide_type": "-"
      }
     },
     "outputs": [
      {
       "metadata": {},
       "output_type": "pyout",
<<<<<<< HEAD
<<<<<<< HEAD
       "prompt_number": 64,
       "text": [
        "count                                200\n",
        "unique                               166\n",
        "top       Fri Jan 23 04:15:44 +0000 2015\n",
        "freq                                   4\n",
=======
       "prompt_number": 21,
       "text": [
        "count                                400\n",
        "unique                               117\n",
        "top       Sun Apr 20 00:33:55 +0000 2014\n",
        "freq                                  16\n",
>>>>>>> 0e83ca8b1ad900ed1951e5b5fcd7fe9d6cdddbf4
=======
       "prompt_number": 64,
       "text": [
        "count                                200\n",
        "unique                               166\n",
        "top       Fri Jan 23 04:15:44 +0000 2015\n",
        "freq                                   4\n",
>>>>>>> 6b44fa29a6c54dae42bfa0e8e0a943d58c6787fe
        "Name: created_at, dtype: object"
       ]
      }
     ],
<<<<<<< HEAD
<<<<<<< HEAD
     "prompt_number": 64
=======
     "prompt_number": 21
>>>>>>> 0e83ca8b1ad900ed1951e5b5fcd7fe9d6cdddbf4
=======
     "prompt_number": 64
>>>>>>> 6b44fa29a6c54dae42bfa0e8e0a943d58c6787fe
    },
    {
     "cell_type": "markdown",
     "metadata": {
      "slideshow": {
       "slide_type": "fragment"
      }
     },
     "source": [
      "However, in this case `created_at` is being treated as a string, which is not very helpful. We can fix that with `pandas.to_datetime`:"
     ]
    },
    {
     "cell_type": "code",
     "collapsed": false,
     "input": [
      "retweet_favorites.created_at.map(pd.to_datetime).describe()"
     ],
     "language": "python",
     "metadata": {
      "slideshow": {
       "slide_type": "fragment"
      }
     },
     "outputs": [
      {
       "metadata": {},
       "output_type": "pyout",
<<<<<<< HEAD
<<<<<<< HEAD
       "prompt_number": 65,
       "text": [
        "count                     200\n",
        "unique                    166\n",
        "top       2015-01-23 04:15:44\n",
        "freq                        4\n",
        "first     2015-01-23 04:13:35\n",
        "last      2015-01-23 04:23:34\n",
=======
       "prompt_number": 22,
       "text": [
        "count                     400\n",
        "unique                    117\n",
        "first     2014-04-20 00:33:45\n",
        "last      2014-04-20 02:16:53\n",
        "top       2014-04-20 00:33:55\n",
        "freq                       16\n",
>>>>>>> 0e83ca8b1ad900ed1951e5b5fcd7fe9d6cdddbf4
=======
       "prompt_number": 65,
       "text": [
        "count                     200\n",
        "unique                    166\n",
        "top       2015-01-23 04:15:44\n",
        "freq                        4\n",
        "first     2015-01-23 04:13:35\n",
        "last      2015-01-23 04:23:34\n",
>>>>>>> 6b44fa29a6c54dae42bfa0e8e0a943d58c6787fe
        "Name: created_at, dtype: object"
       ]
      }
     ],
<<<<<<< HEAD
<<<<<<< HEAD
     "prompt_number": 65
=======
     "prompt_number": 22
>>>>>>> 0e83ca8b1ad900ed1951e5b5fcd7fe9d6cdddbf4
=======
     "prompt_number": 65
>>>>>>> 6b44fa29a6c54dae42bfa0e8e0a943d58c6787fe
    },
    {
     "cell_type": "markdown",
     "metadata": {
      "slideshow": {
       "slide_type": "notes"
      }
     },
     "source": [
      "Not all that interesting though, since all of these tweets were collected within a couple seconds of each other."
     ]
    },
    {
     "cell_type": "markdown",
     "metadata": {
      "slideshow": {
       "slide_type": "slide"
      }
     },
     "source": [
      "Mongo allows us to access subfields directly."
     ]
    },
    {
     "cell_type": "code",
     "collapsed": false,
     "input": [
<<<<<<< HEAD
<<<<<<< HEAD
=======
>>>>>>> 6b44fa29a6c54dae42bfa0e8e0a943d58c6787fe
      "db.tweets.find_one(fields=['entities.user_mentions', 'user.followers_count'])"
     ],
     "language": "python",
     "metadata": {},
     "outputs": [
      {
       "metadata": {},
       "output_type": "pyout",
       "prompt_number": 66,
       "text": [
        "{u'_id': ObjectId('54c1d26646d3d338ebd5e9b1'),\n",
        " u'entities': {u'user_mentions': [{u'id': 121517065,\n",
        "    u'id_str': u'121517065',\n",
        "    u'indices': [3, 10],\n",
        "    u'name': u'Lucas Feuersch\\xfctte',\n",
        "    u'screen_name': u'LubaTV'}]},\n",
        " u'user': {u'followers_count': 36}}"
       ]
      }
     ],
     "prompt_number": 66
    },
    {
     "cell_type": "code",
     "collapsed": false,
     "input": [
<<<<<<< HEAD
=======
>>>>>>> 0e83ca8b1ad900ed1951e5b5fcd7fe9d6cdddbf4
=======
>>>>>>> 6b44fa29a6c54dae42bfa0e8e0a943d58c6787fe
      "mentions_followers = list(db.tweets.find(fields=['entities.user_mentions', 'user.followers_count']))\n",
      "pd.DataFrame(mentions_followers).head()"
     ],
     "language": "python",
     "metadata": {
      "slideshow": {
       "slide_type": "-"
      }
     },
     "outputs": [
      {
       "html": [
        "<div style=\"max-height:1000px;max-width:1500px;overflow:auto;\">\n",
        "<table border=\"1\" class=\"dataframe\">\n",
        "  <thead>\n",
        "    <tr style=\"text-align: right;\">\n",
        "      <th></th>\n",
        "      <th>_id</th>\n",
        "      <th>entities</th>\n",
        "      <th>user</th>\n",
        "    </tr>\n",
        "  </thead>\n",
        "  <tbody>\n",
        "    <tr>\n",
        "      <th>0</th>\n",
<<<<<<< HEAD
<<<<<<< HEAD
        "      <td> 54c1d26646d3d338ebd5e9b1</td>\n",
        "      <td> {u'user_mentions': [{u'indices': [3, 10], u'sc...</td>\n",
        "      <td>   {u'followers_count': 36}</td>\n",
        "    </tr>\n",
        "    <tr>\n",
        "      <th>1</th>\n",
        "      <td> 54c1d26646d3d338ebd5e9b2</td>\n",
        "      <td> {u'user_mentions': [{u'indices': [3, 10], u'sc...</td>\n",
        "      <td> {u'followers_count': 3334}</td>\n",
        "    </tr>\n",
        "    <tr>\n",
        "      <th>2</th>\n",
        "      <td> 54c1d26646d3d338ebd5e9b3</td>\n",
        "      <td>                            {u'user_mentions': []}</td>\n",
        "      <td>  {u'followers_count': 124}</td>\n",
        "    </tr>\n",
        "    <tr>\n",
        "      <th>3</th>\n",
        "      <td> 54c1d26646d3d338ebd5e9b4</td>\n",
        "      <td> {u'user_mentions': [{u'indices': [3, 10], u'sc...</td>\n",
        "      <td>  {u'followers_count': 168}</td>\n",
        "    </tr>\n",
        "    <tr>\n",
        "      <th>4</th>\n",
        "      <td> 54c1d26646d3d338ebd5e9b5</td>\n",
        "      <td> {u'user_mentions': [{u'indices': [3, 10], u'sc...</td>\n",
        "      <td>   {u'followers_count': 36}</td>\n",
        "    </tr>\n",
        "  </tbody>\n",
        "</table>\n",
=======
        "      <td> 53531654bcdefe0e658cbf07</td>\n",
        "      <td> {u'user_mentions': [{u'indices': [0, 10], u'sc...</td>\n",
        "      <td>  {u'followers_count': 61}</td>\n",
=======
        "      <td> 54c1d26646d3d338ebd5e9b1</td>\n",
        "      <td> {u'user_mentions': [{u'indices': [3, 10], u'sc...</td>\n",
        "      <td>   {u'followers_count': 36}</td>\n",
>>>>>>> 6b44fa29a6c54dae42bfa0e8e0a943d58c6787fe
        "    </tr>\n",
        "    <tr>\n",
        "      <th>1</th>\n",
        "      <td> 54c1d26646d3d338ebd5e9b2</td>\n",
        "      <td> {u'user_mentions': [{u'indices': [3, 10], u'sc...</td>\n",
        "      <td> {u'followers_count': 3334}</td>\n",
        "    </tr>\n",
        "    <tr>\n",
        "      <th>2</th>\n",
        "      <td> 54c1d26646d3d338ebd5e9b3</td>\n",
        "      <td>                            {u'user_mentions': []}</td>\n",
        "      <td>  {u'followers_count': 124}</td>\n",
        "    </tr>\n",
        "    <tr>\n",
        "      <th>3</th>\n",
        "      <td> 54c1d26646d3d338ebd5e9b4</td>\n",
        "      <td> {u'user_mentions': [{u'indices': [3, 10], u'sc...</td>\n",
        "      <td>  {u'followers_count': 168}</td>\n",
        "    </tr>\n",
        "    <tr>\n",
        "      <th>4</th>\n",
        "      <td> 54c1d26646d3d338ebd5e9b5</td>\n",
        "      <td> {u'user_mentions': [{u'indices': [3, 10], u'sc...</td>\n",
        "      <td>   {u'followers_count': 36}</td>\n",
        "    </tr>\n",
        "  </tbody>\n",
        "</table>\n",
<<<<<<< HEAD
        "<p>5 rows \u00d7 3 columns</p>\n",
>>>>>>> 0e83ca8b1ad900ed1951e5b5fcd7fe9d6cdddbf4
=======
>>>>>>> 6b44fa29a6c54dae42bfa0e8e0a943d58c6787fe
        "</div>"
       ],
       "metadata": {},
       "output_type": "pyout",
<<<<<<< HEAD
<<<<<<< HEAD
       "prompt_number": 68,
       "text": [
        "                        _id  \\\n",
        "0  54c1d26646d3d338ebd5e9b1   \n",
        "1  54c1d26646d3d338ebd5e9b2   \n",
        "2  54c1d26646d3d338ebd5e9b3   \n",
        "3  54c1d26646d3d338ebd5e9b4   \n",
        "4  54c1d26646d3d338ebd5e9b5   \n",
        "\n",
        "                                            entities  \\\n",
        "0  {u'user_mentions': [{u'indices': [3, 10], u'sc...   \n",
        "1  {u'user_mentions': [{u'indices': [3, 10], u'sc...   \n",
        "2                             {u'user_mentions': []}   \n",
        "3  {u'user_mentions': [{u'indices': [3, 10], u'sc...   \n",
        "4  {u'user_mentions': [{u'indices': [3, 10], u'sc...   \n",
        "\n",
        "                         user  \n",
        "0    {u'followers_count': 36}  \n",
        "1  {u'followers_count': 3334}  \n",
        "2   {u'followers_count': 124}  \n",
        "3   {u'followers_count': 168}  \n",
        "4    {u'followers_count': 36}  "
       ]
      }
     ],
     "prompt_number": 68
=======
       "prompt_number": 23,
=======
       "prompt_number": 68,
>>>>>>> 6b44fa29a6c54dae42bfa0e8e0a943d58c6787fe
       "text": [
        "                        _id  \\\n",
        "0  54c1d26646d3d338ebd5e9b1   \n",
        "1  54c1d26646d3d338ebd5e9b2   \n",
        "2  54c1d26646d3d338ebd5e9b3   \n",
        "3  54c1d26646d3d338ebd5e9b4   \n",
        "4  54c1d26646d3d338ebd5e9b5   \n",
        "\n",
        "                                            entities  \\\n",
        "0  {u'user_mentions': [{u'indices': [3, 10], u'sc...   \n",
        "1  {u'user_mentions': [{u'indices': [3, 10], u'sc...   \n",
        "2                             {u'user_mentions': []}   \n",
        "3  {u'user_mentions': [{u'indices': [3, 10], u'sc...   \n",
        "4  {u'user_mentions': [{u'indices': [3, 10], u'sc...   \n",
        "\n",
        "                         user  \n",
        "0    {u'followers_count': 36}  \n",
        "1  {u'followers_count': 3334}  \n",
        "2   {u'followers_count': 124}  \n",
        "3   {u'followers_count': 168}  \n",
        "4    {u'followers_count': 36}  "
       ]
      }
     ],
<<<<<<< HEAD
     "prompt_number": 23
>>>>>>> 0e83ca8b1ad900ed1951e5b5fcd7fe9d6cdddbf4
=======
     "prompt_number": 68
>>>>>>> 6b44fa29a6c54dae42bfa0e8e0a943d58c6787fe
    },
    {
     "cell_type": "markdown",
     "metadata": {
      "slideshow": {
       "slide_type": "subslide"
      }
     },
     "source": [
      "Pandas doesn't know how to parse the sub-documents however, so we must tell it explicitly:"
     ]
    },
    {
     "cell_type": "code",
     "collapsed": false,
     "input": [
      "mentions_followers_df = pd.DataFrame({'user_mentions': len(tweet['entities']['user_mentions']), \n",
      "              'followers_count': tweet['user'].get('followers_count')} for tweet in mentions_followers)\n",
      "mentions_followers_df.head()"
     ],
     "language": "python",
     "metadata": {
      "slideshow": {
       "slide_type": "-"
      }
     },
     "outputs": [
      {
       "html": [
        "<div style=\"max-height:1000px;max-width:1500px;overflow:auto;\">\n",
        "<table border=\"1\" class=\"dataframe\">\n",
        "  <thead>\n",
        "    <tr style=\"text-align: right;\">\n",
        "      <th></th>\n",
        "      <th>followers_count</th>\n",
        "      <th>user_mentions</th>\n",
        "    </tr>\n",
        "  </thead>\n",
        "  <tbody>\n",
        "    <tr>\n",
        "      <th>0</th>\n",
<<<<<<< HEAD
<<<<<<< HEAD
        "      <td>   36</td>\n",
=======
        "      <td>  61</td>\n",
>>>>>>> 0e83ca8b1ad900ed1951e5b5fcd7fe9d6cdddbf4
=======
        "      <td>   36</td>\n",
>>>>>>> 6b44fa29a6c54dae42bfa0e8e0a943d58c6787fe
        "      <td> 1</td>\n",
        "    </tr>\n",
        "    <tr>\n",
        "      <th>1</th>\n",
<<<<<<< HEAD
<<<<<<< HEAD
        "      <td> 3334</td>\n",
=======
        "      <td> 635</td>\n",
>>>>>>> 0e83ca8b1ad900ed1951e5b5fcd7fe9d6cdddbf4
=======
        "      <td> 3334</td>\n",
>>>>>>> 6b44fa29a6c54dae42bfa0e8e0a943d58c6787fe
        "      <td> 1</td>\n",
        "    </tr>\n",
        "    <tr>\n",
        "      <th>2</th>\n",
<<<<<<< HEAD
<<<<<<< HEAD
        "      <td>  124</td>\n",
        "      <td> 0</td>\n",
        "    </tr>\n",
        "    <tr>\n",
        "      <th>3</th>\n",
        "      <td>  168</td>\n",
=======
        "      <td>  32</td>\n",
        "      <td> 1</td>\n",
        "    </tr>\n",
        "    <tr>\n",
        "      <th>3</th>\n",
        "      <td>  14</td>\n",
>>>>>>> 0e83ca8b1ad900ed1951e5b5fcd7fe9d6cdddbf4
=======
        "      <td>  124</td>\n",
        "      <td> 0</td>\n",
        "    </tr>\n",
        "    <tr>\n",
        "      <th>3</th>\n",
        "      <td>  168</td>\n",
>>>>>>> 6b44fa29a6c54dae42bfa0e8e0a943d58c6787fe
        "      <td> 1</td>\n",
        "    </tr>\n",
        "    <tr>\n",
        "      <th>4</th>\n",
<<<<<<< HEAD
<<<<<<< HEAD
        "      <td>   36</td>\n",
        "      <td> 1</td>\n",
        "    </tr>\n",
        "  </tbody>\n",
        "</table>\n",
=======
        "      <td>  18</td>\n",
        "      <td> 0</td>\n",
        "    </tr>\n",
        "  </tbody>\n",
        "</table>\n",
        "<p>5 rows \u00d7 2 columns</p>\n",
>>>>>>> 0e83ca8b1ad900ed1951e5b5fcd7fe9d6cdddbf4
=======
        "      <td>   36</td>\n",
        "      <td> 1</td>\n",
        "    </tr>\n",
        "  </tbody>\n",
        "</table>\n",
>>>>>>> 6b44fa29a6c54dae42bfa0e8e0a943d58c6787fe
        "</div>"
       ],
       "metadata": {},
       "output_type": "pyout",
<<<<<<< HEAD
<<<<<<< HEAD
       "prompt_number": 69,
       "text": [
        "   followers_count  user_mentions\n",
        "0               36              1\n",
        "1             3334              1\n",
        "2              124              0\n",
        "3              168              1\n",
        "4               36              1"
       ]
      }
     ],
     "prompt_number": 69
=======
       "prompt_number": 24,
=======
       "prompt_number": 69,
>>>>>>> 6b44fa29a6c54dae42bfa0e8e0a943d58c6787fe
       "text": [
        "   followers_count  user_mentions\n",
        "0               36              1\n",
        "1             3334              1\n",
        "2              124              0\n",
        "3              168              1\n",
        "4               36              1"
       ]
      }
     ],
<<<<<<< HEAD
     "prompt_number": 24
>>>>>>> 0e83ca8b1ad900ed1951e5b5fcd7fe9d6cdddbf4
=======
     "prompt_number": 69
>>>>>>> 6b44fa29a6c54dae42bfa0e8e0a943d58c6787fe
    },
    {
     "cell_type": "markdown",
     "metadata": {
      "slideshow": {
       "slide_type": "slide"
      }
     },
     "source": [
      "Perhaps `user_mentions` and `followers_count` are correlated?"
     ]
    },
    {
     "cell_type": "code",
     "collapsed": false,
     "input": [
<<<<<<< HEAD
<<<<<<< HEAD
=======
>>>>>>> 6b44fa29a6c54dae42bfa0e8e0a943d58c6787fe
      "%matplotlib inline"
     ],
     "language": "python",
     "metadata": {},
     "outputs": [],
     "prompt_number": 71
    },
    {
     "cell_type": "code",
     "collapsed": false,
     "input": [
<<<<<<< HEAD
=======
>>>>>>> 0e83ca8b1ad900ed1951e5b5fcd7fe9d6cdddbf4
=======
>>>>>>> 6b44fa29a6c54dae42bfa0e8e0a943d58c6787fe
      "plt.scatter(mentions_followers_df.user_mentions, mentions_followers_df.followers_count)\n",
      "mentions_followers_df.corr()"
     ],
     "language": "python",
     "metadata": {
      "slideshow": {
       "slide_type": "-"
      }
     },
     "outputs": [
      {
       "html": [
        "<div style=\"max-height:1000px;max-width:1500px;overflow:auto;\">\n",
        "<table border=\"1\" class=\"dataframe\">\n",
        "  <thead>\n",
        "    <tr style=\"text-align: right;\">\n",
        "      <th></th>\n",
        "      <th>followers_count</th>\n",
        "      <th>user_mentions</th>\n",
        "    </tr>\n",
        "  </thead>\n",
        "  <tbody>\n",
        "    <tr>\n",
        "      <th>followers_count</th>\n",
        "      <td> 1.000000</td>\n",
<<<<<<< HEAD
<<<<<<< HEAD
        "      <td> 0.031624</td>\n",
        "    </tr>\n",
        "    <tr>\n",
        "      <th>user_mentions</th>\n",
        "      <td> 0.031624</td>\n",
=======
        "      <td>-0.065969</td>\n",
        "    </tr>\n",
        "    <tr>\n",
        "      <th>user_mentions</th>\n",
        "      <td>-0.065969</td>\n",
>>>>>>> 0e83ca8b1ad900ed1951e5b5fcd7fe9d6cdddbf4
=======
        "      <td> 0.031624</td>\n",
        "    </tr>\n",
        "    <tr>\n",
        "      <th>user_mentions</th>\n",
        "      <td> 0.031624</td>\n",
>>>>>>> 6b44fa29a6c54dae42bfa0e8e0a943d58c6787fe
        "      <td> 1.000000</td>\n",
        "    </tr>\n",
        "  </tbody>\n",
        "</table>\n",
<<<<<<< HEAD
<<<<<<< HEAD
=======
        "<p>2 rows \u00d7 2 columns</p>\n",
>>>>>>> 0e83ca8b1ad900ed1951e5b5fcd7fe9d6cdddbf4
=======
>>>>>>> 6b44fa29a6c54dae42bfa0e8e0a943d58c6787fe
        "</div>"
       ],
       "metadata": {},
       "output_type": "pyout",
<<<<<<< HEAD
<<<<<<< HEAD
       "prompt_number": 72,
       "text": [
        "                 followers_count  user_mentions\n",
        "followers_count         1.000000       0.031624\n",
        "user_mentions           0.031624       1.000000"
=======
       "prompt_number": 25,
       "text": [
        "                 followers_count  user_mentions\n",
        "followers_count         1.000000      -0.065969\n",
        "user_mentions          -0.065969       1.000000\n",
        "\n",
        "[2 rows x 2 columns]"
>>>>>>> 0e83ca8b1ad900ed1951e5b5fcd7fe9d6cdddbf4
=======
       "prompt_number": 72,
       "text": [
        "                 followers_count  user_mentions\n",
        "followers_count         1.000000       0.031624\n",
        "user_mentions           0.031624       1.000000"
>>>>>>> 6b44fa29a6c54dae42bfa0e8e0a943d58c6787fe
       ]
      },
      {
       "metadata": {},
       "output_type": "display_data",
<<<<<<< HEAD
<<<<<<< HEAD
       "png": "iVBORw0KGgoAAAANSUhEUgAAAYMAAAEACAYAAABRQBpkAAAABHNCSVQICAgIfAhkiAAAAAlwSFlz\nAAALEgAACxIB0t1+/AAAIABJREFUeJzt3X+UVeV97/H3B2eGTBqMAROCP6pUsZVck6BGktt7w0nj\nAOnqRVnmRljWMobGJqQXLfgD1FunK5IEG7S6ujTLJMqQm1BdJSR4YxjGNCfG2yo1MUqKXCEWr9CA\nkRiNLQkz8L1/7GfgMI5wZuac2TObz2uts2af79n7nO9e4vme/Tz7eR5FBGZmdmwblXcCZmaWPxcD\nMzNzMTAzMxcDMzPDxcDMzHAxMDMzqiwGku6VtFvSpl7x/yHpGUk/kbS8Ir5U0lZJWyRNr4ifJ2lT\neu2OivhoSfen+GOSTqvFyZmZWXWqvTK4D5hZGZD0IWAW8O6I+E/AF1J8MnApMDkdc5ckpcPuBuZH\nxCRgkqSe95wP7Enx24HlmJnZkKmqGETED4CXe4U/BXwuIrrSPj9P8YuA1RHRFRHbgW3AVEkTgDER\nsTHttwq4OG3PAtrT9hrgwwM4FzMzG6DB9BlMAj6YmnXKks5P8ZOAHRX77QBO7iO+M8VJf18AiIhu\n4BVJYweRm5mZ9UPDII99W0S8X9L7gAeA36lNWmZmNpQGUwx2AN8AiIh/lnRA0olkv/hPrdjvlLTv\nzrTdO0567beBf5PUALw1In7R+wMleSIlM7MBiAgd6fXBNBN9E/gDAElnAU0R8RKwDpgjqUnSRLLm\npI0RsQt4VdLU1KF8OfCt9F7rgHlp+6PAd49wQoV93Hzzzbnn4PPz+R1r53YsnF81qroykLQamAaM\nk/QC8JfAvcC96XbTfcCfpC/rzZIeADYD3cCCOJTNAmAl0Aw8FBHrU/wrwFclbQX2AHOqyt7MzGqi\nqmIQEXPf4KXL32D/zwKf7SP+Q+CcPuK/AT5WTS5mZlZ7HoE8jJRKpbxTqCuf38hV5HOD4p9fNVRt\ne9JwIClGUr5mZsOBJKKOHchmVWltbaWxcTyNjeNpbW3NOx0z68Ngbi01O6rW1lba29cCdwLQ3r4Q\ngJUrV+aXlJm9jpuJrK4aG8fT3X0rh+4cbqeh4Tq6unbnmZbZMcXNRGZmVhUXA6uryy77CLCQbB7C\ndmBhipnZcOJmIqu71tZWvva17wBZcXB/gdnQqqaZyMXAzKzg3GdgZmZVcTEwMzMXAzMzczEwMzNc\nDMzMDBcDMzPDxcDMzKiyGEi6V9LutKpZ79cWp/WPx1bElkraKmmLpOkV8fMkbUqv3VERHy3p/hR/\nTNJpgz0xMzOrXrVXBvcBM3sHJZ0KtADPV8QmA5cCk9Mxd6U1jwHuBuZHxCRgkqSe95wP7Enx24Hl\nAzgXMzMboKqKQUT8AHi5j5duA67rFbsIWB0RXRGxHdgGTJU0ARgTERvTfquAi9P2LLKJawDWAB+u\n+gzMzGzQBtxnIOkiYEdEPN3rpZOAHRXPdwAn9xHfmeKkvy8AREQ38Epls5OZmdXXgBa3kfRm4Aay\nJqKD4ZpkdBRtbW0Ht0ulktcuNTPrpVwuUy6X+3VM1RPVSTodeDAizpF0DvAw8B/p5VPIfulPBa4A\niIjPp+PWAzeT9St8LyLOTvG5wAcj4lNpn7aIeExSA/CziHh7Hzl4ojozs36q20R1EbEpIsZHxMSI\nmEjW/HNuROwG1gFzJDVJmghMAjZGxC7gVUlTU4fy5cC30luu49BSWB8FvjuQvMzMbGCqvbV0NfCP\nwFmSXpB0Ra9dDv5cj4jNwAPAZuA7wIKKn/MLgC8DW4FtEbE+xb8CjJO0FbgaWDLA8zEzswHwegZm\nZgXn9QzMzKwqLgZmZuZiYGZmLgZmZoaLgZmZ4WJgZma4GJiZGS4GZmaGi4GZmeFiYGZmuBiYmRku\nBmZmhouBmZnhYmBmZrgYmJkZLgZmZkb1K53dK2m3pE0Vsb+W9IykpyR9Q9JbK15bKmmrpC2SplfE\nz5O0Kb12R0V8tKT7U/wxSafV6gTNzOzoqr0yuA+Y2Su2AXhXRLwHeBZYCiBpMnApMDkdc1da8xjg\nbmB+REwCJknqec/5wJ4Uvx1YPsDzMTOzAaiqGETED4CXe8U6I+JAevo4cEravghYHRFdEbEd2AZM\nlTQBGBMRG9N+q4CL0/YsoD1trwE+PIBzMTOzAapVn8HHgYfS9knAjorXdgAn9xHfmeKkvy8AREQ3\n8IqksTXKzczMjqJhsG8g6UZgX0R8vQb5HFVbW9vB7VKpRKlUGoqPNTMbMcrlMuVyuV/HKCKq21E6\nHXgwIs6piLUCnwA+HBG/TrElABHx+fR8PXAz8DzwvYg4O8XnAh+MiE+lfdoi4jFJDcDPIuLtfeQQ\n1eZrZmYZSUSEjrTPgJuJUufvtcBFPYUgWQfMkdQkaSIwCdgYEbuAVyVNTR3KlwPfqjhmXtr+KPDd\ngeZlZmb9V1UzkaTVwDTgREkvkP3SXwo0AZ3pZqF/iogFEbFZ0gPAZqAbWFDxc34BsBJoBh6KiPUp\n/hXgq5K2AnuAObU4OTMzq07VzUTDQVGbiTo6Olix4h4AFi++khkzZuSckZkVSTXNRC4GOevo6GD2\n7Hns3ZsNrWhuvp61a9tdEMysZlwMRoDp0y+hs3MWh7pM2mlpWceGDWvyTMvMCqSuHchmZlYcgx5n\nYIOzePGVPProPPbuzZ43N1/P4sXtRz7IzKzG3Ew0DLgD2czqyX0GZmbmPgMzM6uOi4GZmbkYmJmZ\ni4GZmeFiYGZmuBiYmRkuBmZmhouBmZnhYmBmZrgYmJkZVRYDSfdK2i1pU0VsrKROSc9K2iDphIrX\nlkraKmmLpOkV8fMkbUqv3VERHy3p/hR/TNJptTpBMzM7umqvDO4DZvaKLQE6I+IssjWLlwBImgxc\nCkxOx9yV1jwGuBuYHxGTgElpHWWA+cCeFL8dWD7A8zEzswGoqhhExA+Al3uFZwE9cy23Axen7YuA\n1RHRFRHbgW3AVEkTgDERsTHtt6rimMr3WgN8uJ/nYWZmgzCYPoPxEbE7be8Gxqftk4AdFfvtAE7u\nI74zxUl/XwCIiG7gFUljB5GbmZn1Q00Wt4mIkDQkc0u3tbUd3C6VSpRKpaH4WDOzEaNcLlMul/t1\nTNXrGUg6HXgwIs5Jz7cApYjYlZqAvhcRvydpCUBEfD7ttx64GXg+7XN2is8FPhgRn0r7tEXEY5Ia\ngJ9FxNv7yMHrGZiZ9VO91zNYx6FV3OcB36yIz5HUJGkiMAnYGBG7gFclTU0dypcD3+rjvT5K1iFt\nZmZDpKorA0mrgWnAiWT9A39J9kX+APDbwHbgYxHxy7T/DcDHgW7gqojoSPHzgJVAM/BQRCxM8dHA\nV4EpwB5gTup87p2HrwzMzPrJy16amZmXvTQzs+q4GJiZmYuBmZm5GJiZGS4GZmaGi4ENgdbWVhob\nx9PYOJ7W1ta80zGzPtRkOgqzN9La2kp7+1rgTgDa2xcCsHLlyvySMrPX8TgDq6vGxvF0d9/KoQHm\n7TQ0XEdX1+4jHWZmNeRxBmZmVhUXA6uryy77CLCQbLmKdmBhipnZcOJmIqu71tZWvva17wBZcXB/\ngdnQ8txEZmbmPgMzM6uOi4GZmbkYmJlZDYqBpKWS/kXSJklflzRa0lhJnZKelbRB0gm99t8qaYuk\n6RXx89J7bJV0x2DzMjOz6g2qGKR1kT8BnJvWRj4OmAMsAToj4iyyJSyXpP0nA5cCk4GZwF1pCUyA\nu4H5ETEJmCRp5mByMzOz6g32yuBVoAt4c1rI/s3AvwGzyG4qJ/29OG1fBKyOiK60rOU2YKqkCcCY\niNiY9ltVcYyZmdXZoIpBRPwCWAH8P7Ii8MuI6ATGR0TPfAO7gfFp+yRgR8Vb7ABO7iO+M8XNzGwI\nDLaZ6AzgauB0si/0t0j648p90sAADw4wMxvGBjtr6fnAP0bEHgBJ3wA+AOyS9M6I2JWagF5M++8E\nTq04/hSyK4KdabsyvrOvD2xrazu4XSqVKJVKgzwFM7NiKZfLlMvlfh0zqBHIkt4DfA14H/BrYCWw\nETgN2BMRyyUtAU6IiCWpA/nrwAVkzUAPA2dGREh6nGwSm43At4E7I2J9r8/zCGQzs36qZgTyoK4M\nIuIpSauAJ4ADwI+Ae4AxwAOS5gPbgY+l/TdLegDYDHQDCyq+3ReQFZNm4KHehcDMzOrHcxOZmRWc\n5yayYaGjo4Pp0y9h+vRL6OjoyDsdM+uDrwysrjo6Opg9ex579y4HoLn5etaubWfGjBk5Z2Z27PAU\n1pa76dMvobNzFpXLXra0rGPDhjV5pmV2THEzkZmZVWWw4wzMjmjx4it59NF57N2bPW9uvp7Fi9uP\nfJCZDTk3E1nddXR0sGLFPUBWHNxfYDa03GdgZmbuMzAzs+q4GJiZmYuBmZm5GJiZGS4GZmaGi4GZ\nmeFiYGZmuBiYmRkuBmZmRg2KgaQTJP29pGckbZY0VdJYSZ2SnpW0QdIJFfsvlbRV0hZJ0yvi50na\nlF67Y7B5mZlZ9WpxZXAH2TKVZwPvBrYAS4DOiDgL+G56TloD+VJgMjATuEtSzxDpu4H5ETEJmCRp\nZg1yMzOzKgyqGEh6K/BfI+JegIjojohXgFlAz9SU7cDFafsiYHVEdEXEdmAbMFXSBGBMRGxM+62q\nOMbMzOpssFcGE4GfS7pP0o8kfUnSbwHjI2J32mc3MD5tnwTsqDh+B3ByH/GdKW5mZkNgsMWgATgX\nuCsizgX+ndQk1CNNM+qpRs3MhrHBLm6zA9gREf+cnv89sBTYJemdEbErNQG9mF7fCZxacfwp6T12\npu3K+M6+PrCtre3gdqlUolQqDfIUrN68noHZ0CqXy5TL5X4dM+j1DCQ9AvxpRDwrqQ14c3ppT0Qs\nl7QEOCEilqQO5K8DF5A1Az0MnBkRIelxYCGwEfg2cGdErO/1WV7PYITp6Ohg9ux57N27HMhWOlu7\ntt0FwWwIDcniNpLeA3wZaAJ+ClwBHAc8APw2sB34WET8Mu1/A/BxoBu4KiI6Uvw8YCXQTHZ30sI+\nPsvFYISZPv0SOjtnAfNSpJ2WlnVs2LAmz7TMjinVFINBr4EcEU8B7+vjpQvfYP/PAp/tI/5D4JzB\n5mNmZv3nEchWV4sXX0lT07Vkdxi309R0LYsXX5l3WjW1bNkyxo07k3HjzmTZsmV5p2M2IIO+MjA7\nui7gixXbxbFs2TJuuulW4E4Abropa9288cYbc8zKrP8G3WcwlNxnMPIUvc9g3Lgz+cUv/ieV5zd2\n7GfYs2dbnmmZHaaaPgM3E5mZmYuB1VfWZ3A18AHgAzQ1XV2oPoNFi64guyO6PT0WppjZyOI+AxsC\njcAn0/a1eSZScz19A7fd9hkAFi26zv0FNiK5z8DqKuszEPDjFHkvLS1RmD4Ds5FgSMYZmB3Jc89t\nIZtx5M4UWchzz51yhCPMLA8uBlZXL774GlkhmFcR+8vc8jGzvrkD2eqqsbGxqpiZ5cvFwOrKd9uY\njQwuBsNAkaczuPHGG7nllusYO/YzjB37GW65xXfbmA1HvpsoZ72nM4CF/sI0s5oakimsh1IRi8Gx\nMJ2BF7cxy5dvLbXc9V7c5tFH53lxG7NhyH0GOSt6B+uKFfekQjAPyIpCz1WCmQ0fNbkykHQc8ATZ\nesj/TdJY4H7gNF6/0tlSspXO9gMLI2JDivesdPYmspXOrqpFbsOdpzMws+GgJn0GkhYB5wFjImKW\npFuBlyLiVknXA2/rtQby+zi0BvKktAbyRuDPI2KjpIfwGsiF4DWQzfI3JFNYSzoF+EOydZB7PmwW\nWZsH6e/FafsiYHVEdEXEdmAbMFXSBLJCsjHtt6riGBvBZsyYwdq12RoGLS3rXAjMhqlaNBPdTjYV\n5fEVsfERsTtt7wbGp+2TgMcq9ttBdoXQlbZ77ExxK4AZM2a4AJgNc4MqBpL+CHgxIp6UVOprn9QE\nVLO2nba2toPbpVKJUqnPjzUbMr511oabcrlMuVzu1zGD6jOQ9FngcqCbrOP3eOAbZH0CpYjYlZqA\nvhcRvydpCUBEfD4dvx64GXg+7XN2is8FpkXEJ3t9nvsMbFhxn4iNBHXvM4iIGyLi1IiYCMwB/iEi\nLgfWcWgU1Tzgm2l7HTBHUpOkicAkYGNE7AJelTRVksgKzDcxG+Z866wVRa0HnfX8bP888ICk+aRb\nSwEiYrOkB4DNZFcTCyp+6i8gu7W0mezW0sPuJDIzs/rxdBRmg+BmIhsJPDeR2RBwB7INd0MyzsDs\naFpaWpBORDqRlpaWvNOpuSeeeIIf/vApfvjDp3jiiSfyTsdsQHxlYHXV0tLCww9vpHKK7gsvvIDO\nzs4806oZT0FuI4GbiSx30onACiqn6IbFRLyUX1I1dCxMQW4jn5uJzMysKi4GVlcXXjiF7K7hD6TH\nghQrhqJPQW7HDhcDq6trrrmGUaOagE8Cn2TUqCauueaavNOqmfPPP5+GBgFfBL5IQ4M4//zz807L\nrN/cZ2B1NX36JXR2zqKyTb2lZR0bNqzJM62ayc5vIvCvKTKRlpZ/Lcz5WTF42UvL3Usv7akqNlK9\n9NJu4BHgCylyDS+99Ls5ZmQ2MC4GVmfdwNUVz68G3pVTLvXQQFYI5lXE7sspF7OBczGwutq16wVg\nH1mbOsC+FCuGV199paqY2XDnYmB19eKLe4G7qOwzePHFa3PMqLZ2794NVHaIX8Pu3Y15pWM2YC4G\nVlfZjORHj41UTU1vJluhdV2KzKOpybOv28jjW0utrkqld9P7PvwsVgzZmIIvkS37PQv4kscZ2Ijk\nYjAMdHR0MH36JUyffgkdHR15p1NT0vHAaGBReoxOsWK48cYbmTLlDHrOb8qUMzwvkY1ILgY565kP\nv7NzFp2ds5g9e16hCsJPfvIE8BvgtvT4TYoVQ2trK08++VN6zu/JJ39Ka2trzlmZ9d9g10A+FVgF\nvINslbN7IuJOSWOB+4HTSCudRcQv0zFLgY8D+4GFEbEhxc8jW+nsTWQrnV3Vx+cVbtBZ0QctNTS8\ng/37/5rKDuTjjruW7u4X80yrZhobx9PdfSuV59fQcB1dXbvzTMvsMEMxUV0X8BcR8S7g/cCnJZ0N\nLAE6I+Is4LvpOZImA5cCk4GZwF061Jt4NzA/IiYBkyTNHGRuI0I2aKmdQ23O7SlWDAcO7K8qZmb5\nGtTdRGkh+11p+zVJzwAnk32rTUu7tQNlsoJwEbA6IrqA7ZK2AVMlPQ+MiYiN6ZhVZLdoHAPrIBd9\n0NKvyTqQeywkG4hWDJdd9hHa2w8/v8sum51bPmYDVbM+A0mnA1OAx4HxEdHz83Y3MD5tnwTsqDhs\nB1nx6B3fmeKFd+KJ46qKjVTScWRf/jelR3eKFcPcuXMZNerQ+Y0a1c3cuXPzTsus32oyzkDSW4A1\nwFUR8avK+8gjIiTVrKG/ra3t4HapVKJUKtXqrXMxbdq5dHYe/sty2rTrcsun1hoamtm373Iq+0Qa\nGr6aZ0o1tWLFPRw4cGhQ3YED7axYcY/XQbZclctlyuVyv44ZdDGQ1EhWCL4aET2jbXZLemdE7JI0\nAejpLdwJnFpx+ClkVwQ703ZlfGdfn1dZDIrg+9//EfAJDg1a+gTf//6PKMrdiU1Nx7FvXzuVE7k1\nNXmErlk99f6h/Fd/9VdHPWZQzUSp8/crwOaI+JuKl9ZxqBF8HvDNivgcSU2SJgKTgI2p7+FVSVPT\ne15eccwx4ByyerombRfH+PHjOdQnMg/4QooVw+LFVzJq1J8BbwfezqhRf8bixVfmnZZZvw22z+D3\ngT8GPiTpyfSYCXweaJH0LPAH6TkRsRl4ANgMfAdYUHGv6ALgy8BWYFtEHAOdx9mXSXPz9fSM0G1u\nvr5QXyYvv/xyVbGRavXq1Rw4MJqs4H2BAwdGs3r16rzTMus3L24zDHR0dLBixT1AVhyK1N58aATy\noWYi+A0Rr+aXVA15nIGNBF7cZoSYMWNGoQrA4ZqA3wV6OsV/F9iSXzpm1idPR2F1NWFCE7AJuDU9\nNqVYMVx22UfoPRFfFjMbWdxMZHVV9OkoAFpaWnj44ScBuPDCKXR2duackdnhhmI6CquBZcuWMW7c\nmYwbdybLli3LO52a2r//QFWxkaqjo4NHHnkKWAGs4JFHnirURINFV+QZg/stIkbMI0u3WG655ZaA\n4wNWpsfxccstt+SdVs1MmHD6685vwoTT806rZqZMmZbOK9JjZUyZMi3vtKwK69evj+bm8Qf/bTY3\nj4/169fnnVZdpO/OI36/+sogZ7fddh9wJ4fuw78zxYrh05/+U7IprHumo/hNihXD88/vIOsTuSQ9\nNqVYMRT5qnXFinvYu3c5Pf/v7d27/OBdfcci302Us66ufVXFRqo1azqBP6dyOoo1azoLtADMvwN/\nSzboDODbwNvyS6eGli1bxk033Ur2YwVuuimbNqU4/+3gUCEHmJhnIrnzlUHO3vGOE8hWyeq5G2VR\nihXD008/TbakxVPpsT3FiuHll18hG0dxS3qMTrGRr+hXrdOmnUvvJUuz2LHJVwY5O/7444HngS+m\nSHeKFcP+/a8BnfT8uoSF7N+/N8eMaiuimWyVs3kVsUW55WPVy+YF6yl2PbF1hZkXrL9cDHLXwOH/\nINsp1noGY+j9ZZldCRVDU1Mj+/Yd3tRQlIn4Fi264mDTUGYhixYVZ0ZdO5yLQc6Kvp4BHOD17bLF\nubV07tyZtLd/icorn7lzi7G4TU/fwG23fQaARYuuK1R/weLFV/Loo/PYmy5Us3nB2vNNKkcedJaz\nMWPG8Npro6j8MnnLWw7wq1/9Ks+0aiZbyOY44K0p8gqwn4hiLH2ZrWE9i8oru5aWdYVZw7roijwv\nWCXPTTQCvPZaz9YX+4gVwXFAM4cmqlsIFKfPwEa2Ys8L1j8uBrlr4vA29eyOouJ4C3A7h/cZ/EVO\nudReNvvq4e3qERfklY7ZgLkY5EzaT8SDwGdS5L1IxWhCORaUy0/Te6W6crk4y3rascPFIGfSb4g4\n/NZLqTiDzrI+gsN/OUOh2sHMCmFYDTqTNFPSFklbJV2fdz5D4cCBZnoP7MliRfFWsqU8r0uPczjU\nmTzynXbaGHoPXMpixeCJ3I4dw+bKQNltJ38LXAjsBP5Z0rqIeCbfzOqtr7ujinTHVJA1o1T2iVyd\nXzo19txzv6D3wKXnnitGn0hHRwezZ89L8/fAo4/OY+3adne4FtSwKQbABWRrH28HkPR3wEVAwYvB\nPrKlIHtck2JF8R+8vpno1znlUnt93epclNufD5/IDfbuzWIuBsU0nIrBycALFc93AFNzymUIjSb7\nn62nA3IecG9+6dTcbwEfp7KDtVjn183ri3l3TrmYDdxwKgZV/Zxqa2s7uF0qlSiVSnVKZ6jsI2s6\nqVwwvkhXBkHWT9Bzfu0UqRmsqamZffv+hMpi3tS0Ks+UasYjdEeucrlMuVzu1zHDZgSypPcDbREx\nMz1fChyIiOUV+xRuBPKZZ57JT3/6M+DdKfI0Z5wxgW3btuWZVs00NTXR1dXTSQ6wkMbGvezbV4yC\n13uaZ1jILbcUZ9qGY2WEbtFVMwJ5OBWDBuD/Ah8G/g3YCMyt7EAuYjGAnoLwMgBnnPG2whSCHllB\nyO6waWz8VWEKQY9ly5YdnNp50aIrClMIrDhGVDEAkPQR4G/I5jD4SkR8rtfrhSwGZmb1NOKKwdG4\nGJiZ9V81xWBYDTozM7N8uBiYmZmLgZmZuRiYmRkuBmZmhouBmZnhYmBmZrgYmJkZLgZmZoaLgZmZ\n4WJgZma4GJiZGS4GZmaGi4GZmeFiYGZmDKIYSPprSc9IekrSNyS9teK1pZK2StoiaXpF/DxJm9Jr\nd1TER0u6P8Ufk3TawE/JzMz6azBXBhuAd0XEe4BngaUAkiYDlwKTgZnAXZJ6FlW4G5gfEZOASZJm\npvh8YE+K3w4s5xjU3wWsRxqf38hV5HOD4p9fNQZcDCKiMyIOpKePA6ek7YuA1RHRFRHbgW3AVEkT\ngDERsTHttwq4OG3PAtrT9hqydZCPOUX/B+nzG7mKfG5Q/POrRq36DD4OPJS2TwJ2VLy2Azi5j/jO\nFCf9fQEgIrqBVySNrVFuZmZ2FA1HelFSJ/DOPl66ISIeTPvcCOyLiK/XIT8zMxsKETHgB9AK/B/g\nTRWxJcCSiufrgalkReWZivhc4O6Kfd6fthuAn7/B54Uffvjhhx/9fxzt+/yIVwZHkjp/rwWmRcSv\nK15aB3xd0m1kzT+TgI0REZJelTQV2AhcDtxZccw84DHgo8B3+/rMiFBfcTMzGxylX9z9P1DaCjQB\nv0ihf4qIBem1G8j6EbqBqyKiI8XPA1YCzcBDEbEwxUcDXwWmAHuAOanz2czMhsCAi4GZmRXHiBuB\nLOm/S/oXSfslnZt3PrUiaWYapLdV0vV551NLku6VtFvSprxzqTVJp0r6Xvo3+RNJC/POqZYkvUnS\n45J+LGmzpM/lnVM9SDpO0pOSHsw7l1qTtF3S0+n8Nr7RfiOuGACbgNnAI3knUiuSjgP+lmyQ3mRg\nrqSz882qpu4jO7ci6gL+IiLeBbwf+HSR/tul/sAPRcR7gXcDH5L0X3JOqx6uAjaTdbYWTQCliJgS\nERe80U4jrhhExJaIeDbvPGrsAmBbRGyPiC7g78gG7xVCRPwAeDnvPOohInZFxI/T9mvAM2Rjagoj\nIv4jbTYBx3Gon7AQJJ0C/CHwZaCoN6kc9bxGXDEoqIOD7pKegXo2gkg6newmiMfzzaS2JI2S9GNg\nN/C9iNicd041djvZnZEHjrbjCBXAw5KekPSJN9ppwLeW1lM1g90KpoiXpscUSW8B/p7s7rnX8s6n\nltK0M+9Nk1F2SCpFRDnntGpC0h8BL0bEk5JKeedTJ78fET+T9HagU9KWdLV+mGFZDCKiJe8chthO\n4NSK56dy+NQdNoxJaiSbU+t/RcQ3886nXiLiFUnfBs4HyjmnUyv/GZgl6Q+BNwHHS1oVEX+Sc141\nExE/S39/LmktWbP064rBSG8mKkr73hNks7ieLqmJbNbXdTnnZFVIM/J+BdgcEX+Tdz61JulESSek\n7WagBXj2yNr0AAAAuElEQVQy36xqJyJuiIhTI2IiMAf4hyIVAklvljQmbf8WMJ3sJpzXGXHFQNJs\nSS+Q3bnxbUnfyTunwUqT8/050EF2R8P9EfFMvlnVjqTVwD8CZ0l6QdIVeedUQ78P/DHZXTZPpkeR\n7pyaAPxD6jN4HHgwIvqcIaAgitZkOx74QcV/v/8dERv62tGDzszMbORdGZiZWe25GJiZmYuBmZm5\nGJiZGS4GZmaGi4GZmeFiYGZmuBiYmRnw/wG5T2GCksou8gAAAABJRU5ErkJggg==\n",
       "text": [
        "<matplotlib.figure.Figure at 0x10cb70d10>"
       ]
      }
     ],
     "prompt_number": 72
=======
       "png": "iVBORw0KGgoAAAANSUhEUgAAAYMAAAEACAYAAABRQBpkAAAABHNCSVQICAgIfAhkiAAAAAlwSFlz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\nEUHFQEREUDEQERFUDEREBPh/7YAJlb16/nwAAAAASUVORK5CYII=\n",
=======
       "png": "iVBORw0KGgoAAAANSUhEUgAAAYMAAAEACAYAAABRQBpkAAAABHNCSVQICAgIfAhkiAAAAAlwSFlz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\n",
>>>>>>> 6b44fa29a6c54dae42bfa0e8e0a943d58c6787fe
       "text": [
        "<matplotlib.figure.Figure at 0x10cb70d10>"
       ]
      }
     ],
<<<<<<< HEAD
     "prompt_number": 25
>>>>>>> 0e83ca8b1ad900ed1951e5b5fcd7fe9d6cdddbf4
=======
     "prompt_number": 72
>>>>>>> 6b44fa29a6c54dae42bfa0e8e0a943d58c6787fe
    },
    {
     "cell_type": "markdown",
     "metadata": {
      "slideshow": {
       "slide_type": "fragment"
      }
     },
     "source": [
      "Perhaps not."
     ]
    },
    {
     "cell_type": "markdown",
     "metadata": {
      "slideshow": {
       "slide_type": "slide"
      }
     },
     "source": [
      "Lab\n",
      "============\n",
      "1-2 Pairs\n",
      "------------"
     ]
    },
    {
     "cell_type": "markdown",
     "metadata": {
      "slideshow": {
       "slide_type": "notes"
      }
     },
     "source": [
      "Raise two fingers if you understand the material well.  \n",
      "Raise one finger if you understand this material OK.  \n",
      "Now, 1 find a 2 and sit next to them. While you work through this exercise, only 1's can type."
     ]
    },
    {
     "cell_type": "markdown",
     "metadata": {
      "slideshow": {
       "slide_type": "fragment"
      }
     },
     "source": [
      "The [Yahoo! Where On Earth ID](https://developer.yahoo.com/geo/geoplanet/) of Canada is 23424775.  \n",
      "Use it to find Twitter trends in Canada and compare it to US trends. What's the difference between them?  \n",
      "\n",
      "- Insert the last 100 tweets for all Canada-only trends into a `canada` collection.  \n",
      "- Insert the last 100 tweets for all US-only trends into a `us` collections.  \n",
      "- For this (small and not very representative) sample, which users have the highest `follower_count`?"
     ]
    },
    {
     "cell_type": "markdown",
     "metadata": {
      "slideshow": {
       "slide_type": "fragment"
      }
     },
     "source": [
      "Individually:\n",
      "------------\n",
      "Find tweets where `'retweet_count': {\"$gt\": 0}`.  \n",
      "What is their `count`?  \n",
      "Is there anything about them that stands out as retweetable?"
     ]
    },
    {
     "cell_type": "markdown",
     "metadata": {
      "slideshow": {
       "slide_type": "notes"
      }
     },
     "source": [
      "Further exercises:  \n",
      "\n",
      "* Twitter - _Mining-the-Social-Web-2nd-Edition_: [Chapter 1 - Mining Twitter](http://nbviewer.ipython.org/github/ptwobrussell/Mining-the-Social-Web-2nd-Edition/blob/master/ipynb/__Chapter%201%20-%20Mining%20Twitter%20%28Full-Text%20Sampler%29.ipynb)\n",
      "* Mongo - [Aggregation Framework](http://docs.mongodb.org/manual/aggregation/)"
     ]
    },
    {
     "cell_type": "markdown",
     "metadata": {
      "slideshow": {
       "slide_type": "slide"
      }
     },
     "source": [
      "Next week:\n",
      "==============\n",
      "Big Data\n",
      "--------------"
     ]
    }
   ],
   "metadata": {}
  }
 ]
}